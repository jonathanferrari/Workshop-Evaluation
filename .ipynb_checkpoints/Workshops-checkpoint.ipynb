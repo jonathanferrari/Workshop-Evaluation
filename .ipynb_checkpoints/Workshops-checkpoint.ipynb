{
 "cells": [
  {
   "cell_type": "markdown",
   "id": "1c6d09d2-bdee-41d6-a54a-86b79332aefb",
   "metadata": {},
   "source": [
    "# Workshop Data Visualization\n",
    "> by [Jonathan Ferrari](https://jonathanferrari.com)"
   ]
  },
  {
   "cell_type": "markdown",
   "id": "882a3f90-1623-42ef-aa28-a8108247768e",
   "metadata": {},
   "source": [
    "## Imports for Functions to Work Properly"
   ]
  },
  {
   "cell_type": "code",
   "execution_count": 1,
   "id": "d3be45bf-f3db-4da3-b686-d80c89b07b5b",
   "metadata": {
    "execution": {
     "iopub.execute_input": "2022-05-20T02:41:22.894543Z",
     "iopub.status.busy": "2022-05-20T02:41:22.893868Z",
     "iopub.status.idle": "2022-05-20T02:41:23.943699Z",
     "shell.execute_reply": "2022-05-20T02:41:23.942803Z",
     "shell.execute_reply.started": "2022-05-20T02:41:22.894439Z"
    },
    "tags": []
   },
   "outputs": [],
   "source": [
    "import requests\n",
    "from pathlib import Path\n",
    "import time\n",
    "#standard data analysis libraries\n",
    "import numpy as np \n",
    "import pandas as pd \n",
    "#imports for displaying, rendering, and saving plots and visualizations\n",
    "import plotly\n",
    "import plotly.express as px\n",
    "from IPython.display import *\n",
    "import plotly.io as pio\n",
    "import ipywidgets as widgets\n",
    "from ipywidgets import *\n",
    "import ast\n",
    "import re\n",
    "import datetime"
   ]
  },
  {
   "cell_type": "markdown",
   "id": "ca1f82ad-a54d-44a1-a804-dd5c9842fc64",
   "metadata": {},
   "source": [
    "## Visualization Functions"
   ]
  },
  {
   "cell_type": "code",
   "execution_count": 2,
   "id": "f52211e8-e5b6-4477-88fe-337624e1f0b0",
   "metadata": {
    "execution": {
     "iopub.execute_input": "2022-05-20T02:41:23.947131Z",
     "iopub.status.busy": "2022-05-20T02:41:23.945662Z",
     "iopub.status.idle": "2022-05-20T02:41:23.992988Z",
     "shell.execute_reply": "2022-05-20T02:41:23.992062Z",
     "shell.execute_reply.started": "2022-05-20T02:41:23.947101Z"
    },
    "slideshow": {
     "slide_type": "slide"
    },
    "tags": []
   },
   "outputs": [],
   "source": [
    "def download_data(data_url, \n",
    "                  file):\n",
    "    file_path = Path(file)\n",
    "    print('Downloading...', end=' ')\n",
    "    resp = requests.get(data_url)\n",
    "    with file_path.open('wb') as f:\n",
    "        f.write(resp.content)\n",
    "    print('Done!')\n",
    "    return file_path\n",
    "\n",
    "def show(*args, tags = []):\n",
    "    \"\"\"\n",
    "    Display text or other data using Ipython\n",
    "    \n",
    "    Parameters\n",
    "    ––––––––––\n",
    "    x : str | default ``None``\n",
    "        the value to display, if None,\n",
    "        two empty lines are displayed\n",
    "        \n",
    "    tags : list of str | default ``[]``\n",
    "        uses each element of tags as an HTML\n",
    "        tag; tags will be applied from left\n",
    "        to right, so the last tag in the \n",
    "        list will be the outermost applied\n",
    "    \n",
    "    Returns\n",
    "    –––––––\n",
    "    None\n",
    "    \"\"\"\n",
    "    if type(args[0]) == list:\n",
    "        args = args[0]\n",
    "    assert (tags == []) or (type(tags[0]) == str), \"tags must contain strings\"\n",
    "    for i in args:\n",
    "        if type(i) != str:\n",
    "            i = str(i)\n",
    "        for tag in tags:\n",
    "            i = f\"<{tag}>{i}</{tag}>\"\n",
    "        display(Markdown(i))\n",
    "    \n",
    "def showtable(self, \n",
    "         allrows: bool = False, \n",
    "         columns: list = [\"all\"], \n",
    "         rows: int = 20, \n",
    "         start: int = 0,\n",
    "         title: str = None,\n",
    "         desc: bool = True):\n",
    "        \"\"\"\n",
    "        Display pandas.DataFrame using custom values \n",
    "\n",
    "        Parameters\n",
    "        ––––––––––\n",
    "        allrows : bool | default ``False``\n",
    "            Wether or not to show all rows\n",
    "            \n",
    "        columns : list | default ``[\"all\"]``\n",
    "            Default shows all columns. Set to list of \n",
    "            column names to select those columns\n",
    "            \n",
    "        rows : int | default ``20``\n",
    "            How mant rows of the DataFrame to display.\n",
    "            If rows < 0, displays the last \n",
    "            ``abs(rows)`` entries\n",
    "            \n",
    "        start: int | default ``0``\n",
    "            What index to start displaying the DataFrame at\n",
    "        \n",
    "        title: str | default ``None``\n",
    "            A title for the DataFrame to be displayed using\n",
    "            ``show()``\n",
    "        desc: bool | default ``True``\n",
    "            Wether to display the DataFrame's size\n",
    "        \n",
    "        Returns\n",
    "        –––––––\n",
    "        None\n",
    "        \"\"\"\n",
    "        if type(title) == str:\n",
    "            show(title)\n",
    "        elif title != None:\n",
    "            show(title[0], title[1])\n",
    "        settings = ['display.max_rows','display.max_columns',\n",
    "                        'display.width','display.max_colwidth']\n",
    "        [pd.set_option(i, None) for i in settings]\n",
    "        loc, cols = 'head', self.columns\n",
    "        if rows < 0:\n",
    "            loc = 'tail'\n",
    "        if columns != [\"all\"]:\n",
    "            cols = columns\n",
    "        if allrows:\n",
    "            display(self[cols])\n",
    "        if start or columns != ['all']:\n",
    "            display(self[cols].iloc[start:start+rows , :])\n",
    "        else:\n",
    "            eval(f\"display(self.{loc}({abs(rows)}))\")\n",
    "        [pd.reset_option(i) for i in settings]\n",
    "        if desc:\n",
    "            nrow, ncol = self.shape\n",
    "            show(f\"{nrow} Rows x {ncol} Columns\", [])\n",
    "            \n",
    "def visualize(data):\n",
    "    @interact(Kind = widgets.Dropdown(options=[\"Scatter Plot\", \"Histogram\"], value = None))\n",
    "    def plot_kind(Kind):\n",
    "        cols = widgets.Dropdown(options=data.columns)\n",
    "        if Kind == \"Scatter Plot\":\n",
    "            show(\">***NOTE:*** If you chose `Color By` to be a column with numeric data, \" \\\n",
    "                 + \"that will **disable the `Side Graph`** parameter\")\n",
    "            @interact(x = widgets.Dropdown(options=data.columns, value = None, \n",
    "                                           description = \"X-Axis\"), \n",
    "                      y = widgets.Dropdown(options=data.columns, value = None, \n",
    "                                           description = \"Y-Axis\"),\n",
    "                      color = widgets.Dropdown(options= [None] + list(data.columns), value = None, \n",
    "                                               description = \"Color By\"),\n",
    "                     marginal = widgets.Dropdown(options = [None, 'rug', 'box', 'violin','histogram'], \n",
    "                                                 value = 'histogram', description = \"Side Graph\"))\n",
    "            def scatter_helper(x, y, marginal, color):\n",
    "                if color != None and data[color].dtype == float:\n",
    "                    marginal = None\n",
    "                if (x != None and y != None):\n",
    "                    px.scatter(data_frame = data, \n",
    "                               x = x, y = y, \n",
    "                               color = color,\n",
    "                               color_continuous_scale='viridis', \n",
    "                               template = 'seaborn',\n",
    "                               marginal_x = marginal, marginal_y = marginal,\n",
    "                               title = f\"'{x}' vs. '{y}'\").show()\n",
    "        if Kind == \"Histogram\":\n",
    "            show(\"Using the `Color By` variable here leads to some odd displays\",\n",
    "                 \"They aren't really usefull, but we've the option to se it in case you are curious\",\n",
    "                 \"The default `None` gives a solid color\")\n",
    "            @interact(x = widgets.Dropdown(options=data.columns, value = None,\n",
    "                                          description = \"X-Axis\"),\n",
    "                      color = widgets.Dropdown(options=[None] + list(data.columns), value = None,\n",
    "                                              description = \"Color By\"),\n",
    "                     marginal = widgets.Dropdown(options = [None, 'rug', 'box', 'violin','histogram'], \n",
    "                                                 value = 'box', description = \"Top Graph\"))\n",
    "            def hist_helper(x, marginal, color):\n",
    "                if (x != None):\n",
    "                    px.histogram(data_frame = data, \n",
    "                               x = x,\n",
    "                               color = color, template = \"seaborn\",\n",
    "                                marginal = marginal,\n",
    "                                title = f\"Distribution of '{x}'\").show()\n",
    "\n",
    "def workshop_hist():\n",
    "    @interact(data = Dropdown(options = [None] + list(tables.keys()), description = \"Workshop\"),\n",
    "              showall = ToggleButton(value=False, description=f'Show All Plots', icon = \"eye\", \n",
    "                                     button_style = \"warning\"))\n",
    "    def step_1(showall, data):\n",
    "        if showall:\n",
    "            @interact(mode = Dropdown(options = [(\"Stacked\", 'relative'), (\"Side-By-Side\", 'group')]))\n",
    "            def show_all(mode):\n",
    "                errors = []\n",
    "                for key in tables.keys():\n",
    "                    df = tables[key]\n",
    "                    for x in df.columns:\n",
    "                        for color in df.columns:\n",
    "                            if (x != color):\n",
    "                                try:\n",
    "                                    px.histogram(data_frame = df, \n",
    "                                           x = x,\n",
    "                                               color = color, \n",
    "                                                     template = \"seaborn\",\n",
    "                                                         title = f\"Distribution of '{x}'\",\n",
    "                                                            barmode = mode).show()\n",
    "                                except Exception as e:\n",
    "                                    errors.append(f\"Encountered {e} when attempting to plot {x} from {key}, colored by {color}\")\n",
    "                for error in errors:\n",
    "                    show(error, tags=[\"pre style='font-size:15px'\"])\n",
    "                        \n",
    "                    \n",
    "        elif data:\n",
    "            key = data\n",
    "            data = tables[data]\n",
    "            @interact(x = widgets.Dropdown(options=data.columns, value = None,\n",
    "                                                  description = \"X-Axis\"),\n",
    "                              color = widgets.Dropdown(options=[i for i in [None] + list(data.columns) \n",
    "                                                                if i != \"Feedback\"], value = None,\n",
    "                                                       description = \"Color By\"),\n",
    "                     mode = Dropdown(options = [(\"Stacked\", 'relative'), (\"Side-By-Side\", 'group')]))\n",
    "            def hist_helper(x, color, mode):\n",
    "                if x == \"Feedback\":\n",
    "                    feedback = data[\"Feedback\"]\n",
    "                    for comment in feedback:\n",
    "                        if pd.notna(comment):\n",
    "                                show(\"*\" + comment, tags=[\"pre style='font-size: 18px'\"])\n",
    "                                show(\"\\n\")\n",
    "                            \n",
    "                            \n",
    "                elif (x != None):\n",
    "                    try:\n",
    "                        px.histogram(data_frame = data, \n",
    "                                   x = x,\n",
    "                                   color = color, template = \"seaborn\",\n",
    "                                    title = f\"Distribution of '{x}'\",\n",
    "                                    barmode = mode).show()\n",
    "                    except Error as e:\n",
    "                        f\"Encountered {e} when attempting to plot {x} from {key},\" \\\n",
    "                        + f\"colored by {color}\"\n",
    "\n",
    "pd.DataFrame.show = showtable\n",
    "Widget.show = lambda x: display(x)"
   ]
  },
  {
   "cell_type": "markdown",
   "id": "89b7b596-d8da-4cbb-860f-b9e4a86b9cea",
   "metadata": {},
   "source": [
    "## Helper Functions"
   ]
  },
  {
   "cell_type": "code",
   "execution_count": 10,
   "id": "5f26d1cb-47cd-42ec-844c-41f28c4f7ec5",
   "metadata": {
    "execution": {
     "iopub.execute_input": "2022-05-20T03:57:40.302510Z",
     "iopub.status.busy": "2022-05-20T03:57:40.301959Z",
     "iopub.status.idle": "2022-05-20T03:57:40.315525Z",
     "shell.execute_reply": "2022-05-20T03:57:40.314631Z",
     "shell.execute_reply.started": "2022-05-20T03:57:40.302481Z"
    },
    "tags": []
   },
   "outputs": [],
   "source": [
    "def outputData(output):\n",
    "    found = eval(output.outputs[0][\"data\"]['text/plain'])\n",
    "    print(found)\n",
    "    return found\n",
    "\n",
    "def select_workshops():\n",
    "    instructions = [\"Please select the workshops you'd like to look at below:\",\n",
    "                     \"On a Mac, hold `command` (\\u2318) while selecting the presentations you want to look at\\n\",\n",
    "                     \"On a PC, hold the `CRTL` button to do the same\"]\n",
    "    selectWidget = SelectMultiple(options = Presentation.dct(), value = [spend, cards])\n",
    "    out = interactive_output(lambda x: display(x), {\"x\" : selectWidget})\n",
    "    show(instructions), display(selectWidget)\n",
    "    return out\n",
    "\n",
    "def outputWorkshop(widget):\n",
    "    try:\n",
    "        found = widget.outputs[0][\"data\"][\"text/plain\"][1:-1].split(\",\")\n",
    "        found = list(filter(lambda x: x != \"\", found))\n",
    "        found = [Presentation.dct().get(shop.strip().replace(\"Presentation: \",\"\").replace(\"\\n \",\"\")) for shop in found]\n",
    "        print(found)\n",
    "        return found\n",
    "    except Exception as e:\n",
    "        ### FIX THIS PART\n",
    "        return\n",
    "\n",
    "def fillRand(series):\n",
    "    new_dict = {}\n",
    "    possible = series[series.notna()]\n",
    "    for i in range(series.size):\n",
    "        if pd.isna(series.iloc[i]):\n",
    "            series.iloc[i] = np.random.choice(possible)\n",
    "    return series\n",
    "\n",
    "def select_date():\n",
    "    instructions = [\"Either enter the date in the format `mm/dd/yyyy`,\",\n",
    "                    \"or click the icon to use an interface to select the date\"]\n",
    "    selectWidget = DatePicker(description=\"Earliest Date\", value = datetime.date.today())\n",
    "    out = interactive_output(lambda x: display(x), {\"x\" : selectWidget})\n",
    "    show(instructions), display(selectWidget)\n",
    "    return out\n",
    "\n",
    "def dateToDatetime(date):\n",
    "    return datetime.datetime.combine(date, datetime.datetime.min.time())"
   ]
  },
  {
   "cell_type": "markdown",
   "id": "747629c6-c639-40a1-a4e5-aca25423696f",
   "metadata": {},
   "source": [
    "## Class to Represent Each Presentation and Creation of Objects to Represent Current Presentation"
   ]
  },
  {
   "cell_type": "code",
   "execution_count": 4,
   "id": "66aa00ba-75c2-40b7-82df-14019b5c2123",
   "metadata": {
    "execution": {
     "iopub.execute_input": "2022-05-20T02:41:24.054029Z",
     "iopub.status.busy": "2022-05-20T02:41:24.053127Z",
     "iopub.status.idle": "2022-05-20T02:41:24.111712Z",
     "shell.execute_reply": "2022-05-20T02:41:24.111031Z",
     "shell.execute_reply.started": "2022-05-20T02:41:24.053999Z"
    },
    "tags": []
   },
   "outputs": [],
   "source": [
    "class Presentation:\n",
    "    def __init__(self, name:str, title:str=\"\"):\n",
    "        self.name = name\n",
    "        self.link = f\"https://tinyurl.com/bffs{name}data\"\n",
    "        self.viewrl = self.link + \"view\"\n",
    "        self.title = title\n",
    "        self.readData()\n",
    "        self.clean()\n",
    "        self.update()\n",
    "        \n",
    "    def __str__(self):\n",
    "        if self.title != \"\":\n",
    "            return self.title\n",
    "        else:\n",
    "            return self.name\n",
    "    def __repr__(self):\n",
    "        if self.title != \"\":\n",
    "            return \"Presentation: \" + self.title\n",
    "        else:\n",
    "            return \"Presentation: \" + self.name\n",
    "        \n",
    "    def create():\n",
    "        names = [\"spend\", \"moving\", \"debt\", \"cards\", \"credit\"]\n",
    "        titles = [\"Spending Plan\", \"Moving Out of the Dorms\", \n",
    "                  \"Dealing with Debt\", \"Credit Cards\", \"Credit\"] \n",
    "        for name, title in zip(names, titles):\n",
    "            globals()[name] = Presentation(name, title = title)\n",
    "            show(f\"<i>{title}</i> workshop has been created!\", tags = [\"b\", \"center\"])\n",
    " \n",
    "    def update(self):\n",
    "        try:\n",
    "            Presentation.workshop_list += [self]\n",
    "        except Exception as e:\n",
    "            Presentation.workshop_list = [self]\n",
    "        try:\n",
    "            Presentation.workshop_dict[self.title] = self\n",
    "        except Exception as e:\n",
    "            Presentation.workshop_dict = {self.title : self}\n",
    "        \n",
    "    def show(self, height = 700):\n",
    "        instruction = \"This page is also viewable \" \\\n",
    "                    + f\"at [this link]({self.viewrl})\"\n",
    "        show(instruction)\n",
    "        return IFrame(self.viewrl, width = \"100%\", height = height)\n",
    "    \n",
    "    def getData(self):\n",
    "        return self.data\n",
    "        \n",
    "    def lst(_ = None):\n",
    "        return Presentation.workshop_list\n",
    "    \n",
    "    def dct(_ = None):\n",
    "        return Presentation.workshop_dict\n",
    "    \n",
    "    def after(_ = None, date = datetime.date.min):\n",
    "        for shop in Presentation.lst():\n",
    "            shop.data = shop.data[shop.data[\"Timestamp\"] > date]\n",
    "    \n",
    "    def getFeedback(self):\n",
    "        responses = [response for response in self.feedback]\n",
    "        feedback = \"\"\n",
    "        for response in responses:\n",
    "            feedback += f\" * {response}\\n\"\n",
    "        show(feedback)\n",
    "    \n",
    "    def readData(self):\n",
    "        if self.name == \"spend\":\n",
    "            self.data = (pd.concat([data.iloc[:, :11] \n",
    "                                    for data in pd.read_excel(self.link, None)\n",
    "                                    .values()])\n",
    "                         .reset_index())\n",
    "        else:\n",
    "            self.data = pd.read_csv(self.link)\n",
    "        self.readFeedback()\n",
    "        self.dropCols()\n",
    "        self.toDateTime()\n",
    "        return self.data\n",
    "    \n",
    "    def dropCols(self):\n",
    "        to_drop = pd.Series(['index', 'Workshop Date (mm/dd/yy)', 'Presentation',\n",
    "                             'Date: month/day/year', 'SID', 'Workshop Date',\n",
    "                             'Event/Affiliated Student Group/Organization',\n",
    "                             'If you would like to schedule a one-on-one ' \\\n",
    "                             + 'appointment to talk about your personal finances,' \\\n",
    "                             + ' please provide your email address:'])\n",
    "        drop_these = to_drop[to_drop.isin(self.data.columns)]\n",
    "        self.data = self.data.drop(columns = drop_these)\n",
    "        \n",
    "    def getFiller(self):\n",
    "        fill_dict = {\"debt\" : {1 : \"None\", 2 : \"No\", 3 : \"Don't know\", 4 : \"Medium Amount\", 5 : fillRand, 7 : \"Nslds.ed.gov\"},\n",
    "                     \"cards\" : {1 : \"0\", 2 : (noCard := \"I don't have a credit card\"), 3 : noCard, 4 : noCard, 5 : fillRand, 6 : fillRand},\n",
    "                     \"spend\" :  {i : \"Not Sure\" for i in range(7)}}\n",
    "        return fill_dict.get(self.name, {i : fillRand for i in range(self.data.shape[1])})\n",
    "\n",
    "\n",
    "    def clean(self):\n",
    "        self.rmna()\n",
    "        self.fill(self.getFiller())\n",
    "\n",
    "    def rmna(self):\n",
    "        df = self.data.copy()\n",
    "        minNonNa = df.shape[1] - ((df.shape[1] - 1) // 2) + 1\n",
    "        df = df.dropna(thresh = minNonNa)\n",
    "        df.columns = df.columns.str.strip()\n",
    "        self.data = df\n",
    "\n",
    "\n",
    "    def fill(self, valuedict = None):\n",
    "        if valuedict:\n",
    "            cols = (df := self.data.copy()).columns\n",
    "            new_dict = {}\n",
    "            for col, val in list(valuedict.items()):\n",
    "                if callable(val):\n",
    "                    df.iloc[:, col] = val(df.iloc[:, col].copy())\n",
    "                else:\n",
    "                    new_dict[cols[col]] = val\n",
    "            df = df.fillna(new_dict)\n",
    "            self.data = df\n",
    "    \n",
    "    def toDateTime(self):\n",
    "        self.data[\"Timestamp\"] = pd.to_datetime(self.data[\"Timestamp\"])\n",
    "        \n",
    "    def readFeedback(self):\n",
    "        data = self.data\n",
    "        match = (data := self.data).columns.str.lower().str.contains(r\"feedback|suggest\")\n",
    "        self.feedback = data.iloc[:, match].iloc[:, 0].dropna()\n",
    "        self.data = self.data.drop(columns = data.columns[match][0])"
   ]
  },
  {
   "cell_type": "markdown",
   "id": "c40166c0-ab48-44cd-9082-ac2ee3fd0cb7",
   "metadata": {},
   "source": [
    "## Run This Cell to Reset the Data and All Edits if Needed"
   ]
  },
  {
   "cell_type": "code",
   "execution_count": 5,
   "id": "1e769930-0a95-42a4-a152-99809a36790b",
   "metadata": {
    "execution": {
     "iopub.execute_input": "2022-05-20T02:41:24.113896Z",
     "iopub.status.busy": "2022-05-20T02:41:24.112775Z",
     "iopub.status.idle": "2022-05-20T02:41:32.531150Z",
     "shell.execute_reply": "2022-05-20T02:41:32.530142Z",
     "shell.execute_reply.started": "2022-05-20T02:41:24.113859Z"
    },
    "tags": []
   },
   "outputs": [
    {
     "data": {
      "text/markdown": [
       "<center><b><i>Spending Plan</i> workshop has been created!</b></center>"
      ],
      "text/plain": [
       "<IPython.core.display.Markdown object>"
      ]
     },
     "metadata": {},
     "output_type": "display_data"
    },
    {
     "data": {
      "text/markdown": [
       "<center><b><i>Moving Out of the Dorms</i> workshop has been created!</b></center>"
      ],
      "text/plain": [
       "<IPython.core.display.Markdown object>"
      ]
     },
     "metadata": {},
     "output_type": "display_data"
    },
    {
     "data": {
      "text/markdown": [
       "<center><b><i>Dealing with Debt</i> workshop has been created!</b></center>"
      ],
      "text/plain": [
       "<IPython.core.display.Markdown object>"
      ]
     },
     "metadata": {},
     "output_type": "display_data"
    },
    {
     "data": {
      "text/markdown": [
       "<center><b><i>Credit Cards</i> workshop has been created!</b></center>"
      ],
      "text/plain": [
       "<IPython.core.display.Markdown object>"
      ]
     },
     "metadata": {},
     "output_type": "display_data"
    },
    {
     "data": {
      "text/markdown": [
       "<center><b><i>Credit</i> workshop has been created!</b></center>"
      ],
      "text/plain": [
       "<IPython.core.display.Markdown object>"
      ]
     },
     "metadata": {},
     "output_type": "display_data"
    }
   ],
   "source": [
    "Presentation.create()"
   ]
  },
  {
   "cell_type": "markdown",
   "id": "3878165e-1f8d-4269-86c9-b1df524114f0",
   "metadata": {
    "tags": []
   },
   "source": [
    "## Introduction\n",
    "<p style=\"font-size:20px\">Welcome to this interactive Jupyter Notebook!</p>\n",
    "Today, we will be visualizing data from workshop feedback forms from the time period you're trying to study!\n",
    "We'll go through a few procedures, and don't worry you won't need to code anything, and I'll walk you through the process! <br />\n",
    "<b style=\"font-size:18px\"> Now, lets get to it!</b>"
   ]
  },
  {
   "cell_type": "markdown",
   "id": "9e4ceb10-d69f-4bb1-9135-56428ad757e2",
   "metadata": {},
   "source": [
    "<div class=\"alert alert-block alert-info\">\n",
    "<b style=\"font-size:20px\">⚠️Disclaimer⚠️</b> <br>This notebook is curretly set up with the ability to analyze the following workshops:\n",
    "    <ul>\n",
    "        <li>Spending Plan</li>\n",
    "        <li>Moving Out of the Dorms</li>\n",
    "        <li>Dealing with Debt</li>\n",
    "        <li>Credit Cards</li>\n",
    "        <li>Credit</li>\n",
    "    </ul>\n",
    "    If a new workshop is added, please contact <a href=\"https://jonathanferrari.com/contact\">Jonathan Ferrari</a> to update the notebook.\n",
    "</div>"
   ]
  },
  {
   "cell_type": "markdown",
   "id": "3384fa2e-423a-4cfb-9ef3-3a316921a591",
   "metadata": {},
   "source": [
    "## Your Data"
   ]
  },
  {
   "cell_type": "markdown",
   "id": "0048b952-49f7-4a9a-943b-b2387598a598",
   "metadata": {},
   "source": [
    "In order to do this, the first thing we need is some data! We'll be using the data collected from the *Google Forms*; we can get the data right from the *Google Sheets* that its collected in. To do this, we'll use the links from the workshop feedback folder. You can access the workshop feedback spreadsheets **[here](https://docs.google.com/spreadsheets/d/1HmZuYnTnKcpUJ7nKDn3Rx5M7c3qD3QDfbYbsfr_-Zf8/edit?usp=sharing)**, these are the sheets we'll use. They're living documents so using them later should still work fine!"
   ]
  },
  {
   "cell_type": "markdown",
   "id": "fb1d1748-140e-424b-a58d-06bad6305a64",
   "metadata": {},
   "source": [
    "### Walkthrough"
   ]
  },
  {
   "cell_type": "code",
   "execution_count": 6,
   "id": "d060403a-0e1d-4292-855e-2a267b0b29c8",
   "metadata": {
    "execution": {
     "iopub.execute_input": "2022-05-20T02:41:32.533283Z",
     "iopub.status.busy": "2022-05-20T02:41:32.532325Z",
     "iopub.status.idle": "2022-05-20T02:41:32.578307Z",
     "shell.execute_reply": "2022-05-20T02:41:32.577327Z",
     "shell.execute_reply.started": "2022-05-20T02:41:32.533246Z"
    },
    "tags": []
   },
   "outputs": [
    {
     "data": {
      "text/markdown": [
       "Please select the workshops you'd like to look at below:"
      ],
      "text/plain": [
       "<IPython.core.display.Markdown object>"
      ]
     },
     "metadata": {},
     "output_type": "display_data"
    },
    {
     "data": {
      "text/markdown": [
       "On a Mac, hold `command` (⌘) while selecting the presentations you want to look at\n"
      ],
      "text/plain": [
       "<IPython.core.display.Markdown object>"
      ]
     },
     "metadata": {},
     "output_type": "display_data"
    },
    {
     "data": {
      "text/markdown": [
       "On a PC, hold the `CRTL` button to do the same"
      ],
      "text/plain": [
       "<IPython.core.display.Markdown object>"
      ]
     },
     "metadata": {},
     "output_type": "display_data"
    },
    {
     "data": {
      "application/vnd.jupyter.widget-view+json": {
       "model_id": "cddfff8736194715b06f2d889dffb915",
       "version_major": 2,
       "version_minor": 0
      },
      "text/plain": [
       "SelectMultiple(index=(0, 3), options={'Spending Plan': Presentation: Spending Plan, 'Moving Out of the Dorms':…"
      ]
     },
     "metadata": {},
     "output_type": "display_data"
    },
    {
     "data": {
      "application/vnd.jupyter.widget-view+json": {
       "model_id": "8bf4a400207f4a84ad2e1fe6e69d09a2",
       "version_major": 2,
       "version_minor": 0
      },
      "text/plain": [
       "Output()"
      ]
     },
     "metadata": {},
     "output_type": "display_data"
    }
   ],
   "source": [
    "selected = select_workshops()\n",
    "selected"
   ]
  },
  {
   "cell_type": "markdown",
   "id": "77ce8c04-11b9-498b-9a2e-db6058ff7835",
   "metadata": {},
   "source": [
    "## Select What Timeframe of Data You'd Like to Look At"
   ]
  },
  {
   "cell_type": "markdown",
   "id": "1be85a35-925b-45c6-8bda-60bcd6db0e97",
   "metadata": {},
   "source": [
    "We'll need to determine what data you want to look at. We'll assume you want to look at current data. So, we just need to decide what the earliest data you want to look at is. Use the cell below to choose that date! You can either enter it in number form, or click the calendar icon on the right to click a date."
   ]
  },
  {
   "cell_type": "code",
   "execution_count": 7,
   "id": "4a6e332a-7184-48dc-8171-0a1f3fc7fdc2",
   "metadata": {
    "execution": {
     "iopub.execute_input": "2022-05-20T02:41:32.580466Z",
     "iopub.status.busy": "2022-05-20T02:41:32.580060Z",
     "iopub.status.idle": "2022-05-20T02:41:32.646395Z",
     "shell.execute_reply": "2022-05-20T02:41:32.645508Z",
     "shell.execute_reply.started": "2022-05-20T02:41:32.580435Z"
    },
    "tags": []
   },
   "outputs": [
    {
     "data": {
      "text/markdown": [
       "Either enter the date in the format `mm/dd/yyyy`,"
      ],
      "text/plain": [
       "<IPython.core.display.Markdown object>"
      ]
     },
     "metadata": {},
     "output_type": "display_data"
    },
    {
     "data": {
      "text/markdown": [
       "or click the icon to use an interface to select the date"
      ],
      "text/plain": [
       "<IPython.core.display.Markdown object>"
      ]
     },
     "metadata": {},
     "output_type": "display_data"
    },
    {
     "data": {
      "application/vnd.jupyter.widget-view+json": {
       "model_id": "bec46e3d5aaa42dfaec7cd19d387a649",
       "version_major": 2,
       "version_minor": 0
      },
      "text/plain": [
       "DatePicker(value=datetime.date(2022, 5, 19), description='Earliest Date')"
      ]
     },
     "metadata": {},
     "output_type": "display_data"
    }
   ],
   "source": [
    "start = select_date()"
   ]
  },
  {
   "cell_type": "markdown",
   "id": "57dde296-1dc6-42c2-8bc9-45c8ef5508fc",
   "metadata": {
    "tags": []
   },
   "source": [
    "## Using Your Input"
   ]
  },
  {
   "cell_type": "markdown",
   "id": "c0f9961d-f327-448e-8fd1-e2b9ecc7c70a",
   "metadata": {},
   "source": [
    "Now, we'll use the inputs you gave to customize the visualizations!"
   ]
  },
  {
   "cell_type": "code",
   "execution_count": 8,
   "id": "194b129e-83bd-4101-b850-5d78fdf77d6e",
   "metadata": {
    "execution": {
     "iopub.execute_input": "2022-05-20T02:41:32.649463Z",
     "iopub.status.busy": "2022-05-20T02:41:32.648215Z",
     "iopub.status.idle": "2022-05-20T02:41:53.503614Z",
     "shell.execute_reply": "2022-05-20T02:41:53.502267Z",
     "shell.execute_reply.started": "2022-05-20T02:41:32.649422Z"
    },
    "tags": []
   },
   "outputs": [
    {
     "name": "stderr",
     "output_type": "stream",
     "text": [
      "\n",
      "KeyboardInterrupt\n",
      "\n"
     ]
    }
   ],
   "source": [
    "# try:\n",
    "selected, start = outputWorkshop(selected), dateToDatetime(outputData(start))\n",
    "# except Exception as e:\n",
    "#     if type(selected) != list:\n",
    "#         show(\"Please run this cell again\", tags = [\"h3 style='color:#c7513a'\", \"center\"])"
   ]
  },
  {
   "cell_type": "markdown",
   "id": "89f3cc41-3f90-4b90-8a37-4c8fc999fce5",
   "metadata": {},
   "source": [
    "## Aggregation"
   ]
  },
  {
   "cell_type": "code",
   "execution_count": null,
   "id": "5204b14c-81c1-405a-8d9e-64eb11fcc3e3",
   "metadata": {
    "execution": {
     "iopub.status.busy": "2022-05-20T02:41:53.504524Z",
     "iopub.status.idle": "2022-05-20T02:41:53.505117Z",
     "shell.execute_reply": "2022-05-20T02:41:53.504968Z",
     "shell.execute_reply.started": "2022-05-20T02:41:53.504950Z"
    },
    "tags": []
   },
   "outputs": [],
   "source": [
    "Presentation.after(date = start)"
   ]
  },
  {
   "cell_type": "code",
   "execution_count": null,
   "id": "a3193f04-cff1-45c5-8584-3a9a7fae1c23",
   "metadata": {
    "execution": {
     "iopub.status.busy": "2022-05-20T02:41:53.506313Z",
     "iopub.status.idle": "2022-05-20T02:41:53.506989Z",
     "shell.execute_reply": "2022-05-20T02:41:53.506760Z",
     "shell.execute_reply.started": "2022-05-20T02:41:53.506733Z"
    },
    "tags": []
   },
   "outputs": [],
   "source": [
    "selected.outputs[0]"
   ]
  },
  {
   "cell_type": "code",
   "execution_count": null,
   "id": "2a893685-0fca-4ccd-b28e-2b4ff3320579",
   "metadata": {},
   "outputs": [],
   "source": []
  },
  {
   "cell_type": "code",
   "execution_count": null,
   "id": "897c47ea-4819-4431-ab6f-8a3ad789995b",
   "metadata": {
    "execution": {
     "iopub.status.busy": "2022-05-20T02:41:53.508691Z",
     "iopub.status.idle": "2022-05-20T02:41:53.511123Z",
     "shell.execute_reply": "2022-05-20T02:41:53.509912Z",
     "shell.execute_reply.started": "2022-05-20T02:41:53.509884Z"
    },
    "tags": []
   },
   "outputs": [],
   "source": [
    "outputWorkshop(selected)"
   ]
  },
  {
   "cell_type": "code",
   "execution_count": null,
   "id": "a8fcd56b-feba-4eea-a1eb-a2a0d83ebccd",
   "metadata": {},
   "outputs": [],
   "source": []
  }
 ],
 "metadata": {
  "kernelspec": {
   "display_name": "Python 3 (ipykernel)",
   "language": "python",
   "name": "python3"
  },
  "language_info": {
   "codemirror_mode": {
    "name": "ipython",
    "version": 3
   },
   "file_extension": ".py",
   "mimetype": "text/x-python",
   "name": "python",
   "nbconvert_exporter": "python",
   "pygments_lexer": "ipython3",
   "version": "3.10.1"
  },
  "widgets": {
   "application/vnd.jupyter.widget-state+json": {
    "state": {
     "1c16a0fb137845b8a9a37cf3e924947f": {
      "model_module": "@jupyter-widgets/controls",
      "model_module_version": "1.5.0",
      "model_name": "DescriptionStyleModel",
      "state": {
       "description_width": ""
      }
     },
     "225b24a3fbc94f6996336b591c9f1360": {
      "model_module": "@jupyter-widgets/base",
      "model_module_version": "1.2.0",
      "model_name": "LayoutModel",
      "state": {}
     },
     "6f0af44ee98d4ff48cdce4c49cfe3c86": {
      "model_module": "@jupyter-widgets/base",
      "model_module_version": "1.2.0",
      "model_name": "LayoutModel",
      "state": {}
     },
     "7182a259e14441789e7182cf4616aafb": {
      "model_module": "@jupyter-widgets/base",
      "model_module_version": "1.2.0",
      "model_name": "LayoutModel",
      "state": {}
     },
     "8bf4a400207f4a84ad2e1fe6e69d09a2": {
      "model_module": "@jupyter-widgets/output",
      "model_module_version": "1.0.0",
      "model_name": "OutputModel",
      "state": {
       "layout": "IPY_MODEL_225b24a3fbc94f6996336b591c9f1360",
       "outputs": [
        {
         "data": {
          "text/plain": "(Presentation: Spending Plan, Presentation: Credit Cards)"
         },
         "metadata": {},
         "output_type": "display_data"
        }
       ]
      }
     },
     "b588286e9704483bb979a9b81ad1903d": {
      "model_module": "@jupyter-widgets/output",
      "model_module_version": "1.0.0",
      "model_name": "OutputModel",
      "state": {
       "layout": "IPY_MODEL_ef5bb055ffc74ecdb2a8dc234ee2a761",
       "outputs": [
        {
         "data": {
          "text/plain": "datetime.date(2022, 5, 19)"
         },
         "metadata": {},
         "output_type": "display_data"
        }
       ]
      }
     },
     "bec46e3d5aaa42dfaec7cd19d387a649": {
      "model_module": "@jupyter-widgets/controls",
      "model_module_version": "1.5.0",
      "model_name": "DatePickerModel",
      "state": {
       "description": "Earliest Date",
       "disabled": false,
       "layout": "IPY_MODEL_7182a259e14441789e7182cf4616aafb",
       "style": "IPY_MODEL_1c16a0fb137845b8a9a37cf3e924947f",
       "value": {
        "date": 19,
        "month": 4,
        "year": 2022
       }
      }
     },
     "cddfff8736194715b06f2d889dffb915": {
      "model_module": "@jupyter-widgets/controls",
      "model_module_version": "1.5.0",
      "model_name": "SelectMultipleModel",
      "state": {
       "_options_labels": [
        "Spending Plan",
        "Moving Out of the Dorms",
        "Dealing with Debt",
        "Credit Cards",
        "Credit"
       ],
       "index": [
        0,
        3
       ],
       "layout": "IPY_MODEL_6f0af44ee98d4ff48cdce4c49cfe3c86",
       "rows": 5,
       "style": "IPY_MODEL_e001e298ed344d10957fbb62fae23a5e"
      }
     },
     "e001e298ed344d10957fbb62fae23a5e": {
      "model_module": "@jupyter-widgets/controls",
      "model_module_version": "1.5.0",
      "model_name": "DescriptionStyleModel",
      "state": {
       "description_width": ""
      }
     },
     "ef5bb055ffc74ecdb2a8dc234ee2a761": {
      "model_module": "@jupyter-widgets/base",
      "model_module_version": "1.2.0",
      "model_name": "LayoutModel",
      "state": {}
     }
    },
    "version_major": 2,
    "version_minor": 0
   }
  }
 },
 "nbformat": 4,
 "nbformat_minor": 5
}
