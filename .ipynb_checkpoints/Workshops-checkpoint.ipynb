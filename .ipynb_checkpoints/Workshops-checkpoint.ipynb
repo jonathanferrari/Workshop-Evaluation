{
 "cells": [
  {
   "cell_type": "code",
   "execution_count": 1,
   "id": "f52211e8-e5b6-4477-88fe-337624e1f0b0",
   "metadata": {
    "execution": {
     "iopub.execute_input": "2022-04-28T00:06:21.458484Z",
     "iopub.status.busy": "2022-04-28T00:06:21.458104Z",
     "iopub.status.idle": "2022-04-28T00:06:24.311435Z",
     "shell.execute_reply": "2022-04-28T00:06:24.310532Z",
     "shell.execute_reply.started": "2022-04-28T00:06:21.458349Z"
    },
    "slideshow": {
     "slide_type": "slide"
    },
    "tags": []
   },
   "outputs": [
    {
     "name": "stdout",
     "output_type": "stream",
     "text": [
      "Downloading... Done!\n"
     ]
    }
   ],
   "source": [
    "from utils import *"
   ]
  },
  {
   "cell_type": "code",
   "execution_count": 2,
   "id": "9939a96c-de27-4607-890d-441aef5af07f",
   "metadata": {
    "execution": {
     "iopub.execute_input": "2022-04-28T00:06:24.313552Z",
     "iopub.status.busy": "2022-04-28T00:06:24.313123Z",
     "iopub.status.idle": "2022-04-28T00:06:24.334784Z",
     "shell.execute_reply": "2022-04-28T00:06:24.331252Z",
     "shell.execute_reply.started": "2022-04-28T00:06:24.313509Z"
    },
    "slideshow": {
     "slide_type": "slide"
    },
    "tags": []
   },
   "outputs": [
    {
     "data": {
      "text/html": [
       "\n",
       "        <iframe\n",
       "            width=\"100%\"\n",
       "            height=\"500\"\n",
       "            src=\"https://docs.google.com/spreadsheets/d/e/2PACX-1vQJ0Asb2UuESYvMdLE3Td3vh1cMCblbLQbGb0vYw8z0AXQBiQc_GeIkwsu6oJaRTf81wH6bssEefz64/pubhtml?headers=false\"\n",
       "            frameborder=\"0\"\n",
       "            allowfullscreen\n",
       "            \n",
       "        ></iframe>\n",
       "        "
      ],
      "text/plain": [
       "<IPython.lib.display.IFrame at 0x11ed07100>"
      ]
     },
     "execution_count": 2,
     "metadata": {},
     "output_type": "execute_result"
    }
   ],
   "source": [
    "show_data(height = 500)"
   ]
  },
  {
   "cell_type": "code",
   "execution_count": 3,
   "id": "c5b0ea82-b103-4557-a118-ae568083a236",
   "metadata": {
    "execution": {
     "iopub.execute_input": "2022-04-28T00:06:24.389777Z",
     "iopub.status.busy": "2022-04-28T00:06:24.388150Z",
     "iopub.status.idle": "2022-04-28T00:06:24.497392Z",
     "shell.execute_reply": "2022-04-28T00:06:24.493334Z",
     "shell.execute_reply.started": "2022-04-28T00:06:24.389629Z"
    },
    "slideshow": {
     "slide_type": "slide"
    },
    "tags": []
   },
   "outputs": [
    {
     "data": {
      "application/vnd.jupyter.widget-view+json": {
       "model_id": "3716549d3ce548a5891898ed05ef6782",
       "version_major": 2,
       "version_minor": 0
      },
      "text/plain": [
       "interactive(children=(ToggleButton(value=False, button_style='warning', description='Show All Plots', icon='ey…"
      ]
     },
     "metadata": {},
     "output_type": "display_data"
    }
   ],
   "source": [
    "workshop_hist()"
   ]
  }
 ],
 "metadata": {
  "kernelspec": {
   "display_name": "Python 3 (ipykernel)",
   "language": "python",
   "name": "python3"
  },
  "language_info": {
   "codemirror_mode": {
    "name": "ipython",
    "version": 3
   },
   "file_extension": ".py",
   "mimetype": "text/x-python",
   "name": "python",
   "nbconvert_exporter": "python",
   "pygments_lexer": "ipython3",
   "version": "3.10.1"
  },
  "widgets": {
   "application/vnd.jupyter.widget-state+json": {
    "state": {
     "046a592cf6144f7ebb2eae435dfbb63d": {
      "model_module": "@jupyter-widgets/base",
      "model_module_version": "1.2.0",
      "model_name": "LayoutModel",
      "state": {}
     },
     "0a093fec1a804b3aa237f47a751c7550": {
      "model_module": "@jupyter-widgets/base",
      "model_module_version": "1.2.0",
      "model_name": "LayoutModel",
      "state": {}
     },
     "11f79fd4826940faaaae88fc7bcb42bf": {
      "model_module": "@jupyter-widgets/controls",
      "model_module_version": "1.5.0",
      "model_name": "DropdownModel",
      "state": {
       "_options_labels": [
        "I will make a spending plan",
        "I've started saving",
        "What's in a spending plan?",
        "I have reduced flexible expenses",
        "I can manage my finances",
        "Feedback"
       ],
       "description": "X-Axis",
       "index": 5,
       "layout": "IPY_MODEL_77f4eba9cc5f43d8bffb771309da4e1d",
       "style": "IPY_MODEL_a31ed49f1922440785a5fe1539e74131"
      }
     },
     "1dd7bdb3acdf487392633ea5e866acd7": {
      "model_module": "@jupyter-widgets/controls",
      "model_module_version": "1.5.0",
      "model_name": "DescriptionStyleModel",
      "state": {
       "description_width": ""
      }
     },
     "24d8f2da70684170ada4d310bcf785d7": {
      "model_module": "@jupyter-widgets/output",
      "model_module_version": "1.0.0",
      "model_name": "OutputModel",
      "state": {
       "layout": "IPY_MODEL_9c082fc3d5624d1790871fe73ee7f81d",
       "outputs": [
        {
         "data": {
          "application/vnd.plotly.v1+json": {
           "config": {
            "plotlyServerURL": "https://plot.ly"
           },
           "data": [
            {
             "alignmentgroup": "True",
             "bingroup": "x",
             "hovertemplate": "I follow my budget=Never<br>I can balance the costs of basic needs=%{x}<br>count=%{y}<extra></extra>",
             "legendgroup": "Never",
             "marker": {
              "color": "rgb(76,114,176)",
              "pattern": {
               "shape": ""
              }
             },
             "name": "Never",
             "offsetgroup": "Never",
             "orientation": "v",
             "showlegend": true,
             "type": "histogram",
             "x": [
              "Agree",
              "Disagree",
              "Agree",
              "Agree",
              "Agree"
             ],
             "xaxis": "x",
             "yaxis": "y"
            },
            {
             "alignmentgroup": "True",
             "bingroup": "x",
             "hovertemplate": "I follow my budget=Frequently<br>I can balance the costs of basic needs=%{x}<br>count=%{y}<extra></extra>",
             "legendgroup": "Frequently",
             "marker": {
              "color": "rgb(221,132,82)",
              "pattern": {
               "shape": ""
              }
             },
             "name": "Frequently",
             "offsetgroup": "Frequently",
             "orientation": "v",
             "showlegend": true,
             "type": "histogram",
             "x": [
              "Strongly agree",
              "Agree",
              "Disagree",
              "Agree",
              "Agree",
              "Agree",
              "Agree",
              "Agree"
             ],
             "xaxis": "x",
             "yaxis": "y"
            },
            {
             "alignmentgroup": "True",
             "bingroup": "x",
             "hovertemplate": "I follow my budget=Sometimes<br>I can balance the costs of basic needs=%{x}<br>count=%{y}<extra></extra>",
             "legendgroup": "Sometimes",
             "marker": {
              "color": "rgb(85,168,104)",
              "pattern": {
               "shape": ""
              }
             },
             "name": "Sometimes",
             "offsetgroup": "Sometimes",
             "orientation": "v",
             "showlegend": true,
             "type": "histogram",
             "x": [
              "Agree",
              "Agree",
              "Disagree",
              "Agree",
              "Agree",
              "Agree",
              "Disagree",
              "Strongly disagree",
              "Agree",
              "Disagree",
              "Strongly agree",
              "Agree",
              "Strongly agree",
              "Agree",
              "Agree",
              "Agree",
              "Agree",
              "Agree",
              "Agree",
              "Agree",
              "Strongly agree"
             ],
             "xaxis": "x",
             "yaxis": "y"
            }
           ],
           "layout": {
            "barmode": "group",
            "legend": {
             "title": {
              "text": "I follow my budget"
             },
             "tracegroupgap": 0
            },
            "template": {
             "data": {
              "bar": [
               {
                "error_x": {
                 "color": "rgb(36,36,36)"
                },
                "error_y": {
                 "color": "rgb(36,36,36)"
                },
                "marker": {
                 "line": {
                  "color": "rgb(234,234,242)",
                  "width": 0.5
                 },
                 "pattern": {
                  "fillmode": "overlay",
                  "size": 10,
                  "solidity": 0.2
                 }
                },
                "type": "bar"
               }
              ],
              "barpolar": [
               {
                "marker": {
                 "line": {
                  "color": "rgb(234,234,242)",
                  "width": 0.5
                 },
                 "pattern": {
                  "fillmode": "overlay",
                  "size": 10,
                  "solidity": 0.2
                 }
                },
                "type": "barpolar"
               }
              ],
              "carpet": [
               {
                "aaxis": {
                 "endlinecolor": "rgb(36,36,36)",
                 "gridcolor": "white",
                 "linecolor": "white",
                 "minorgridcolor": "white",
                 "startlinecolor": "rgb(36,36,36)"
                },
                "baxis": {
                 "endlinecolor": "rgb(36,36,36)",
                 "gridcolor": "white",
                 "linecolor": "white",
                 "minorgridcolor": "white",
                 "startlinecolor": "rgb(36,36,36)"
                },
                "type": "carpet"
               }
              ],
              "choropleth": [
               {
                "colorbar": {
                 "outlinewidth": 0,
                 "tickcolor": "rgb(36,36,36)",
                 "ticklen": 8,
                 "ticks": "outside",
                 "tickwidth": 2
                },
                "type": "choropleth"
               }
              ],
              "contour": [
               {
                "colorbar": {
                 "outlinewidth": 0,
                 "tickcolor": "rgb(36,36,36)",
                 "ticklen": 8,
                 "ticks": "outside",
                 "tickwidth": 2
                },
                "colorscale": [
                 [
                  0,
                  "rgb(2,4,25)"
                 ],
                 [
                  0.06274509803921569,
                  "rgb(24,15,41)"
                 ],
                 [
                  0.12549019607843137,
                  "rgb(47,23,57)"
                 ],
                 [
                  0.18823529411764706,
                  "rgb(71,28,72)"
                 ],
                 [
                  0.25098039215686274,
                  "rgb(97,30,82)"
                 ],
                 [
                  0.3137254901960784,
                  "rgb(123,30,89)"
                 ],
                 [
                  0.3764705882352941,
                  "rgb(150,27,91)"
                 ],
                 [
                  0.4392156862745098,
                  "rgb(177,22,88)"
                 ],
                 [
                  0.5019607843137255,
                  "rgb(203,26,79)"
                 ],
                 [
                  0.5647058823529412,
                  "rgb(223,47,67)"
                 ],
                 [
                  0.6274509803921569,
                  "rgb(236,76,61)"
                 ],
                 [
                  0.6901960784313725,
                  "rgb(242,107,73)"
                 ],
                 [
                  0.7529411764705882,
                  "rgb(244,135,95)"
                 ],
                 [
                  0.8156862745098039,
                  "rgb(245,162,122)"
                 ],
                 [
                  0.8784313725490196,
                  "rgb(246,188,153)"
                 ],
                 [
                  0.9411764705882353,
                  "rgb(247,212,187)"
                 ],
                 [
                  1,
                  "rgb(250,234,220)"
                 ]
                ],
                "type": "contour"
               }
              ],
              "contourcarpet": [
               {
                "colorbar": {
                 "outlinewidth": 0,
                 "tickcolor": "rgb(36,36,36)",
                 "ticklen": 8,
                 "ticks": "outside",
                 "tickwidth": 2
                },
                "type": "contourcarpet"
               }
              ],
              "heatmap": [
               {
                "colorbar": {
                 "outlinewidth": 0,
                 "tickcolor": "rgb(36,36,36)",
                 "ticklen": 8,
                 "ticks": "outside",
                 "tickwidth": 2
                },
                "colorscale": [
                 [
                  0,
                  "rgb(2,4,25)"
                 ],
                 [
                  0.06274509803921569,
                  "rgb(24,15,41)"
                 ],
                 [
                  0.12549019607843137,
                  "rgb(47,23,57)"
                 ],
                 [
                  0.18823529411764706,
                  "rgb(71,28,72)"
                 ],
                 [
                  0.25098039215686274,
                  "rgb(97,30,82)"
                 ],
                 [
                  0.3137254901960784,
                  "rgb(123,30,89)"
                 ],
                 [
                  0.3764705882352941,
                  "rgb(150,27,91)"
                 ],
                 [
                  0.4392156862745098,
                  "rgb(177,22,88)"
                 ],
                 [
                  0.5019607843137255,
                  "rgb(203,26,79)"
                 ],
                 [
                  0.5647058823529412,
                  "rgb(223,47,67)"
                 ],
                 [
                  0.6274509803921569,
                  "rgb(236,76,61)"
                 ],
                 [
                  0.6901960784313725,
                  "rgb(242,107,73)"
                 ],
                 [
                  0.7529411764705882,
                  "rgb(244,135,95)"
                 ],
                 [
                  0.8156862745098039,
                  "rgb(245,162,122)"
                 ],
                 [
                  0.8784313725490196,
                  "rgb(246,188,153)"
                 ],
                 [
                  0.9411764705882353,
                  "rgb(247,212,187)"
                 ],
                 [
                  1,
                  "rgb(250,234,220)"
                 ]
                ],
                "type": "heatmap"
               }
              ],
              "heatmapgl": [
               {
                "colorbar": {
                 "outlinewidth": 0,
                 "tickcolor": "rgb(36,36,36)",
                 "ticklen": 8,
                 "ticks": "outside",
                 "tickwidth": 2
                },
                "colorscale": [
                 [
                  0,
                  "rgb(2,4,25)"
                 ],
                 [
                  0.06274509803921569,
                  "rgb(24,15,41)"
                 ],
                 [
                  0.12549019607843137,
                  "rgb(47,23,57)"
                 ],
                 [
                  0.18823529411764706,
                  "rgb(71,28,72)"
                 ],
                 [
                  0.25098039215686274,
                  "rgb(97,30,82)"
                 ],
                 [
                  0.3137254901960784,
                  "rgb(123,30,89)"
                 ],
                 [
                  0.3764705882352941,
                  "rgb(150,27,91)"
                 ],
                 [
                  0.4392156862745098,
                  "rgb(177,22,88)"
                 ],
                 [
                  0.5019607843137255,
                  "rgb(203,26,79)"
                 ],
                 [
                  0.5647058823529412,
                  "rgb(223,47,67)"
                 ],
                 [
                  0.6274509803921569,
                  "rgb(236,76,61)"
                 ],
                 [
                  0.6901960784313725,
                  "rgb(242,107,73)"
                 ],
                 [
                  0.7529411764705882,
                  "rgb(244,135,95)"
                 ],
                 [
                  0.8156862745098039,
                  "rgb(245,162,122)"
                 ],
                 [
                  0.8784313725490196,
                  "rgb(246,188,153)"
                 ],
                 [
                  0.9411764705882353,
                  "rgb(247,212,187)"
                 ],
                 [
                  1,
                  "rgb(250,234,220)"
                 ]
                ],
                "type": "heatmapgl"
               }
              ],
              "histogram": [
               {
                "marker": {
                 "pattern": {
                  "fillmode": "overlay",
                  "size": 10,
                  "solidity": 0.2
                 }
                },
                "type": "histogram"
               }
              ],
              "histogram2d": [
               {
                "colorbar": {
                 "outlinewidth": 0,
                 "tickcolor": "rgb(36,36,36)",
                 "ticklen": 8,
                 "ticks": "outside",
                 "tickwidth": 2
                },
                "colorscale": [
                 [
                  0,
                  "rgb(2,4,25)"
                 ],
                 [
                  0.06274509803921569,
                  "rgb(24,15,41)"
                 ],
                 [
                  0.12549019607843137,
                  "rgb(47,23,57)"
                 ],
                 [
                  0.18823529411764706,
                  "rgb(71,28,72)"
                 ],
                 [
                  0.25098039215686274,
                  "rgb(97,30,82)"
                 ],
                 [
                  0.3137254901960784,
                  "rgb(123,30,89)"
                 ],
                 [
                  0.3764705882352941,
                  "rgb(150,27,91)"
                 ],
                 [
                  0.4392156862745098,
                  "rgb(177,22,88)"
                 ],
                 [
                  0.5019607843137255,
                  "rgb(203,26,79)"
                 ],
                 [
                  0.5647058823529412,
                  "rgb(223,47,67)"
                 ],
                 [
                  0.6274509803921569,
                  "rgb(236,76,61)"
                 ],
                 [
                  0.6901960784313725,
                  "rgb(242,107,73)"
                 ],
                 [
                  0.7529411764705882,
                  "rgb(244,135,95)"
                 ],
                 [
                  0.8156862745098039,
                  "rgb(245,162,122)"
                 ],
                 [
                  0.8784313725490196,
                  "rgb(246,188,153)"
                 ],
                 [
                  0.9411764705882353,
                  "rgb(247,212,187)"
                 ],
                 [
                  1,
                  "rgb(250,234,220)"
                 ]
                ],
                "type": "histogram2d"
               }
              ],
              "histogram2dcontour": [
               {
                "colorbar": {
                 "outlinewidth": 0,
                 "tickcolor": "rgb(36,36,36)",
                 "ticklen": 8,
                 "ticks": "outside",
                 "tickwidth": 2
                },
                "colorscale": [
                 [
                  0,
                  "rgb(2,4,25)"
                 ],
                 [
                  0.06274509803921569,
                  "rgb(24,15,41)"
                 ],
                 [
                  0.12549019607843137,
                  "rgb(47,23,57)"
                 ],
                 [
                  0.18823529411764706,
                  "rgb(71,28,72)"
                 ],
                 [
                  0.25098039215686274,
                  "rgb(97,30,82)"
                 ],
                 [
                  0.3137254901960784,
                  "rgb(123,30,89)"
                 ],
                 [
                  0.3764705882352941,
                  "rgb(150,27,91)"
                 ],
                 [
                  0.4392156862745098,
                  "rgb(177,22,88)"
                 ],
                 [
                  0.5019607843137255,
                  "rgb(203,26,79)"
                 ],
                 [
                  0.5647058823529412,
                  "rgb(223,47,67)"
                 ],
                 [
                  0.6274509803921569,
                  "rgb(236,76,61)"
                 ],
                 [
                  0.6901960784313725,
                  "rgb(242,107,73)"
                 ],
                 [
                  0.7529411764705882,
                  "rgb(244,135,95)"
                 ],
                 [
                  0.8156862745098039,
                  "rgb(245,162,122)"
                 ],
                 [
                  0.8784313725490196,
                  "rgb(246,188,153)"
                 ],
                 [
                  0.9411764705882353,
                  "rgb(247,212,187)"
                 ],
                 [
                  1,
                  "rgb(250,234,220)"
                 ]
                ],
                "type": "histogram2dcontour"
               }
              ],
              "mesh3d": [
               {
                "colorbar": {
                 "outlinewidth": 0,
                 "tickcolor": "rgb(36,36,36)",
                 "ticklen": 8,
                 "ticks": "outside",
                 "tickwidth": 2
                },
                "type": "mesh3d"
               }
              ],
              "parcoords": [
               {
                "line": {
                 "colorbar": {
                  "outlinewidth": 0,
                  "tickcolor": "rgb(36,36,36)",
                  "ticklen": 8,
                  "ticks": "outside",
                  "tickwidth": 2
                 }
                },
                "type": "parcoords"
               }
              ],
              "pie": [
               {
                "automargin": true,
                "type": "pie"
               }
              ],
              "scatter": [
               {
                "marker": {
                 "colorbar": {
                  "outlinewidth": 0,
                  "tickcolor": "rgb(36,36,36)",
                  "ticklen": 8,
                  "ticks": "outside",
                  "tickwidth": 2
                 }
                },
                "type": "scatter"
               }
              ],
              "scatter3d": [
               {
                "line": {
                 "colorbar": {
                  "outlinewidth": 0,
                  "tickcolor": "rgb(36,36,36)",
                  "ticklen": 8,
                  "ticks": "outside",
                  "tickwidth": 2
                 }
                },
                "marker": {
                 "colorbar": {
                  "outlinewidth": 0,
                  "tickcolor": "rgb(36,36,36)",
                  "ticklen": 8,
                  "ticks": "outside",
                  "tickwidth": 2
                 }
                },
                "type": "scatter3d"
               }
              ],
              "scattercarpet": [
               {
                "marker": {
                 "colorbar": {
                  "outlinewidth": 0,
                  "tickcolor": "rgb(36,36,36)",
                  "ticklen": 8,
                  "ticks": "outside",
                  "tickwidth": 2
                 }
                },
                "type": "scattercarpet"
               }
              ],
              "scattergeo": [
               {
                "marker": {
                 "colorbar": {
                  "outlinewidth": 0,
                  "tickcolor": "rgb(36,36,36)",
                  "ticklen": 8,
                  "ticks": "outside",
                  "tickwidth": 2
                 }
                },
                "type": "scattergeo"
               }
              ],
              "scattergl": [
               {
                "marker": {
                 "colorbar": {
                  "outlinewidth": 0,
                  "tickcolor": "rgb(36,36,36)",
                  "ticklen": 8,
                  "ticks": "outside",
                  "tickwidth": 2
                 }
                },
                "type": "scattergl"
               }
              ],
              "scattermapbox": [
               {
                "marker": {
                 "colorbar": {
                  "outlinewidth": 0,
                  "tickcolor": "rgb(36,36,36)",
                  "ticklen": 8,
                  "ticks": "outside",
                  "tickwidth": 2
                 }
                },
                "type": "scattermapbox"
               }
              ],
              "scatterpolar": [
               {
                "marker": {
                 "colorbar": {
                  "outlinewidth": 0,
                  "tickcolor": "rgb(36,36,36)",
                  "ticklen": 8,
                  "ticks": "outside",
                  "tickwidth": 2
                 }
                },
                "type": "scatterpolar"
               }
              ],
              "scatterpolargl": [
               {
                "marker": {
                 "colorbar": {
                  "outlinewidth": 0,
                  "tickcolor": "rgb(36,36,36)",
                  "ticklen": 8,
                  "ticks": "outside",
                  "tickwidth": 2
                 }
                },
                "type": "scatterpolargl"
               }
              ],
              "scatterternary": [
               {
                "marker": {
                 "colorbar": {
                  "outlinewidth": 0,
                  "tickcolor": "rgb(36,36,36)",
                  "ticklen": 8,
                  "ticks": "outside",
                  "tickwidth": 2
                 }
                },
                "type": "scatterternary"
               }
              ],
              "surface": [
               {
                "colorbar": {
                 "outlinewidth": 0,
                 "tickcolor": "rgb(36,36,36)",
                 "ticklen": 8,
                 "ticks": "outside",
                 "tickwidth": 2
                },
                "colorscale": [
                 [
                  0,
                  "rgb(2,4,25)"
                 ],
                 [
                  0.06274509803921569,
                  "rgb(24,15,41)"
                 ],
                 [
                  0.12549019607843137,
                  "rgb(47,23,57)"
                 ],
                 [
                  0.18823529411764706,
                  "rgb(71,28,72)"
                 ],
                 [
                  0.25098039215686274,
                  "rgb(97,30,82)"
                 ],
                 [
                  0.3137254901960784,
                  "rgb(123,30,89)"
                 ],
                 [
                  0.3764705882352941,
                  "rgb(150,27,91)"
                 ],
                 [
                  0.4392156862745098,
                  "rgb(177,22,88)"
                 ],
                 [
                  0.5019607843137255,
                  "rgb(203,26,79)"
                 ],
                 [
                  0.5647058823529412,
                  "rgb(223,47,67)"
                 ],
                 [
                  0.6274509803921569,
                  "rgb(236,76,61)"
                 ],
                 [
                  0.6901960784313725,
                  "rgb(242,107,73)"
                 ],
                 [
                  0.7529411764705882,
                  "rgb(244,135,95)"
                 ],
                 [
                  0.8156862745098039,
                  "rgb(245,162,122)"
                 ],
                 [
                  0.8784313725490196,
                  "rgb(246,188,153)"
                 ],
                 [
                  0.9411764705882353,
                  "rgb(247,212,187)"
                 ],
                 [
                  1,
                  "rgb(250,234,220)"
                 ]
                ],
                "type": "surface"
               }
              ],
              "table": [
               {
                "cells": {
                 "fill": {
                  "color": "rgb(231,231,240)"
                 },
                 "line": {
                  "color": "white"
                 }
                },
                "header": {
                 "fill": {
                  "color": "rgb(183,183,191)"
                 },
                 "line": {
                  "color": "white"
                 }
                },
                "type": "table"
               }
              ]
             },
             "layout": {
              "annotationdefaults": {
               "arrowcolor": "rgb(67,103,167)"
              },
              "autotypenumbers": "strict",
              "coloraxis": {
               "colorbar": {
                "outlinewidth": 0,
                "tickcolor": "rgb(36,36,36)",
                "ticklen": 8,
                "ticks": "outside",
                "tickwidth": 2
               }
              },
              "colorscale": {
               "sequential": [
                [
                 0,
                 "rgb(2,4,25)"
                ],
                [
                 0.06274509803921569,
                 "rgb(24,15,41)"
                ],
                [
                 0.12549019607843137,
                 "rgb(47,23,57)"
                ],
                [
                 0.18823529411764706,
                 "rgb(71,28,72)"
                ],
                [
                 0.25098039215686274,
                 "rgb(97,30,82)"
                ],
                [
                 0.3137254901960784,
                 "rgb(123,30,89)"
                ],
                [
                 0.3764705882352941,
                 "rgb(150,27,91)"
                ],
                [
                 0.4392156862745098,
                 "rgb(177,22,88)"
                ],
                [
                 0.5019607843137255,
                 "rgb(203,26,79)"
                ],
                [
                 0.5647058823529412,
                 "rgb(223,47,67)"
                ],
                [
                 0.6274509803921569,
                 "rgb(236,76,61)"
                ],
                [
                 0.6901960784313725,
                 "rgb(242,107,73)"
                ],
                [
                 0.7529411764705882,
                 "rgb(244,135,95)"
                ],
                [
                 0.8156862745098039,
                 "rgb(245,162,122)"
                ],
                [
                 0.8784313725490196,
                 "rgb(246,188,153)"
                ],
                [
                 0.9411764705882353,
                 "rgb(247,212,187)"
                ],
                [
                 1,
                 "rgb(250,234,220)"
                ]
               ],
               "sequentialminus": [
                [
                 0,
                 "rgb(2,4,25)"
                ],
                [
                 0.06274509803921569,
                 "rgb(24,15,41)"
                ],
                [
                 0.12549019607843137,
                 "rgb(47,23,57)"
                ],
                [
                 0.18823529411764706,
                 "rgb(71,28,72)"
                ],
                [
                 0.25098039215686274,
                 "rgb(97,30,82)"
                ],
                [
                 0.3137254901960784,
                 "rgb(123,30,89)"
                ],
                [
                 0.3764705882352941,
                 "rgb(150,27,91)"
                ],
                [
                 0.4392156862745098,
                 "rgb(177,22,88)"
                ],
                [
                 0.5019607843137255,
                 "rgb(203,26,79)"
                ],
                [
                 0.5647058823529412,
                 "rgb(223,47,67)"
                ],
                [
                 0.6274509803921569,
                 "rgb(236,76,61)"
                ],
                [
                 0.6901960784313725,
                 "rgb(242,107,73)"
                ],
                [
                 0.7529411764705882,
                 "rgb(244,135,95)"
                ],
                [
                 0.8156862745098039,
                 "rgb(245,162,122)"
                ],
                [
                 0.8784313725490196,
                 "rgb(246,188,153)"
                ],
                [
                 0.9411764705882353,
                 "rgb(247,212,187)"
                ],
                [
                 1,
                 "rgb(250,234,220)"
                ]
               ]
              },
              "colorway": [
               "rgb(76,114,176)",
               "rgb(221,132,82)",
               "rgb(85,168,104)",
               "rgb(196,78,82)",
               "rgb(129,114,179)",
               "rgb(147,120,96)",
               "rgb(218,139,195)",
               "rgb(140,140,140)",
               "rgb(204,185,116)",
               "rgb(100,181,205)"
              ],
              "font": {
               "color": "rgb(36,36,36)"
              },
              "geo": {
               "bgcolor": "white",
               "lakecolor": "white",
               "landcolor": "rgb(234,234,242)",
               "showlakes": true,
               "showland": true,
               "subunitcolor": "white"
              },
              "hoverlabel": {
               "align": "left"
              },
              "hovermode": "closest",
              "paper_bgcolor": "white",
              "plot_bgcolor": "rgb(234,234,242)",
              "polar": {
               "angularaxis": {
                "gridcolor": "white",
                "linecolor": "white",
                "showgrid": true,
                "ticks": ""
               },
               "bgcolor": "rgb(234,234,242)",
               "radialaxis": {
                "gridcolor": "white",
                "linecolor": "white",
                "showgrid": true,
                "ticks": ""
               }
              },
              "scene": {
               "xaxis": {
                "backgroundcolor": "rgb(234,234,242)",
                "gridcolor": "white",
                "gridwidth": 2,
                "linecolor": "white",
                "showbackground": true,
                "showgrid": true,
                "ticks": "",
                "zerolinecolor": "white"
               },
               "yaxis": {
                "backgroundcolor": "rgb(234,234,242)",
                "gridcolor": "white",
                "gridwidth": 2,
                "linecolor": "white",
                "showbackground": true,
                "showgrid": true,
                "ticks": "",
                "zerolinecolor": "white"
               },
               "zaxis": {
                "backgroundcolor": "rgb(234,234,242)",
                "gridcolor": "white",
                "gridwidth": 2,
                "linecolor": "white",
                "showbackground": true,
                "showgrid": true,
                "ticks": "",
                "zerolinecolor": "white"
               }
              },
              "shapedefaults": {
               "fillcolor": "rgb(67,103,167)",
               "line": {
                "width": 0
               },
               "opacity": 0.5
              },
              "ternary": {
               "aaxis": {
                "gridcolor": "white",
                "linecolor": "white",
                "showgrid": true,
                "ticks": ""
               },
               "baxis": {
                "gridcolor": "white",
                "linecolor": "white",
                "showgrid": true,
                "ticks": ""
               },
               "bgcolor": "rgb(234,234,242)",
               "caxis": {
                "gridcolor": "white",
                "linecolor": "white",
                "showgrid": true,
                "ticks": ""
               }
              },
              "xaxis": {
               "automargin": true,
               "gridcolor": "white",
               "linecolor": "white",
               "showgrid": true,
               "ticks": "",
               "title": {
                "standoff": 15
               },
               "zerolinecolor": "white"
              },
              "yaxis": {
               "automargin": true,
               "gridcolor": "white",
               "linecolor": "white",
               "showgrid": true,
               "ticks": "",
               "title": {
                "standoff": 15
               },
               "zerolinecolor": "white"
              }
             }
            },
            "title": {
             "text": "Distribution of 'I can balance the costs of basic needs'"
            },
            "xaxis": {
             "anchor": "y",
             "domain": [
              0,
              1
             ],
             "title": {
              "text": "I can balance the costs of basic needs"
             }
            },
            "yaxis": {
             "anchor": "x",
             "domain": [
              0,
              1
             ],
             "title": {
              "text": "count"
             }
            }
           }
          },
          "text/html": "<div>                            <div id=\"e333b8b7-ba4a-4060-ae56-8a51f02640e8\" class=\"plotly-graph-div\" style=\"height:525px; width:100%;\"></div>            <script type=\"text/javascript\">                require([\"plotly\"], function(Plotly) {                    window.PLOTLYENV=window.PLOTLYENV || {};                                    if (document.getElementById(\"e333b8b7-ba4a-4060-ae56-8a51f02640e8\")) {                    Plotly.newPlot(                        \"e333b8b7-ba4a-4060-ae56-8a51f02640e8\",                        [{\"alignmentgroup\":\"True\",\"bingroup\":\"x\",\"hovertemplate\":\"I follow my budget=Never<br>I can balance the costs of basic needs=%{x}<br>count=%{y}<extra></extra>\",\"legendgroup\":\"Never\",\"marker\":{\"color\":\"rgb(76,114,176)\",\"pattern\":{\"shape\":\"\"}},\"name\":\"Never\",\"offsetgroup\":\"Never\",\"orientation\":\"v\",\"showlegend\":true,\"x\":[\"Agree\",\"Disagree\",\"Agree\",\"Agree\",\"Agree\"],\"xaxis\":\"x\",\"yaxis\":\"y\",\"type\":\"histogram\"},{\"alignmentgroup\":\"True\",\"bingroup\":\"x\",\"hovertemplate\":\"I follow my budget=Frequently<br>I can balance the costs of basic needs=%{x}<br>count=%{y}<extra></extra>\",\"legendgroup\":\"Frequently\",\"marker\":{\"color\":\"rgb(221,132,82)\",\"pattern\":{\"shape\":\"\"}},\"name\":\"Frequently\",\"offsetgroup\":\"Frequently\",\"orientation\":\"v\",\"showlegend\":true,\"x\":[\"Strongly agree\",\"Agree\",\"Disagree\",\"Agree\",\"Agree\",\"Agree\",\"Agree\",\"Agree\"],\"xaxis\":\"x\",\"yaxis\":\"y\",\"type\":\"histogram\"},{\"alignmentgroup\":\"True\",\"bingroup\":\"x\",\"hovertemplate\":\"I follow my budget=Sometimes<br>I can balance the costs of basic needs=%{x}<br>count=%{y}<extra></extra>\",\"legendgroup\":\"Sometimes\",\"marker\":{\"color\":\"rgb(85,168,104)\",\"pattern\":{\"shape\":\"\"}},\"name\":\"Sometimes\",\"offsetgroup\":\"Sometimes\",\"orientation\":\"v\",\"showlegend\":true,\"x\":[\"Agree\",\"Agree\",\"Disagree\",\"Agree\",\"Agree\",\"Agree\",\"Disagree\",\"Strongly disagree\",\"Agree\",\"Disagree\",\"Strongly agree\",\"Agree\",\"Strongly agree\",\"Agree\",\"Agree\",\"Agree\",\"Agree\",\"Agree\",\"Agree\",\"Agree\",\"Strongly agree\"],\"xaxis\":\"x\",\"yaxis\":\"y\",\"type\":\"histogram\"}],                        {\"template\":{\"data\":{\"barpolar\":[{\"marker\":{\"line\":{\"color\":\"rgb(234,234,242)\",\"width\":0.5},\"pattern\":{\"fillmode\":\"overlay\",\"size\":10,\"solidity\":0.2}},\"type\":\"barpolar\"}],\"bar\":[{\"error_x\":{\"color\":\"rgb(36,36,36)\"},\"error_y\":{\"color\":\"rgb(36,36,36)\"},\"marker\":{\"line\":{\"color\":\"rgb(234,234,242)\",\"width\":0.5},\"pattern\":{\"fillmode\":\"overlay\",\"size\":10,\"solidity\":0.2}},\"type\":\"bar\"}],\"carpet\":[{\"aaxis\":{\"endlinecolor\":\"rgb(36,36,36)\",\"gridcolor\":\"white\",\"linecolor\":\"white\",\"minorgridcolor\":\"white\",\"startlinecolor\":\"rgb(36,36,36)\"},\"baxis\":{\"endlinecolor\":\"rgb(36,36,36)\",\"gridcolor\":\"white\",\"linecolor\":\"white\",\"minorgridcolor\":\"white\",\"startlinecolor\":\"rgb(36,36,36)\"},\"type\":\"carpet\"}],\"choropleth\":[{\"colorbar\":{\"outlinewidth\":0,\"tickcolor\":\"rgb(36,36,36)\",\"ticklen\":8,\"ticks\":\"outside\",\"tickwidth\":2},\"type\":\"choropleth\"}],\"contourcarpet\":[{\"colorbar\":{\"outlinewidth\":0,\"tickcolor\":\"rgb(36,36,36)\",\"ticklen\":8,\"ticks\":\"outside\",\"tickwidth\":2},\"type\":\"contourcarpet\"}],\"contour\":[{\"colorbar\":{\"outlinewidth\":0,\"tickcolor\":\"rgb(36,36,36)\",\"ticklen\":8,\"ticks\":\"outside\",\"tickwidth\":2},\"colorscale\":[[0.0,\"rgb(2,4,25)\"],[0.06274509803921569,\"rgb(24,15,41)\"],[0.12549019607843137,\"rgb(47,23,57)\"],[0.18823529411764706,\"rgb(71,28,72)\"],[0.25098039215686274,\"rgb(97,30,82)\"],[0.3137254901960784,\"rgb(123,30,89)\"],[0.3764705882352941,\"rgb(150,27,91)\"],[0.4392156862745098,\"rgb(177,22,88)\"],[0.5019607843137255,\"rgb(203,26,79)\"],[0.5647058823529412,\"rgb(223,47,67)\"],[0.6274509803921569,\"rgb(236,76,61)\"],[0.6901960784313725,\"rgb(242,107,73)\"],[0.7529411764705882,\"rgb(244,135,95)\"],[0.8156862745098039,\"rgb(245,162,122)\"],[0.8784313725490196,\"rgb(246,188,153)\"],[0.9411764705882353,\"rgb(247,212,187)\"],[1.0,\"rgb(250,234,220)\"]],\"type\":\"contour\"}],\"heatmapgl\":[{\"colorbar\":{\"outlinewidth\":0,\"tickcolor\":\"rgb(36,36,36)\",\"ticklen\":8,\"ticks\":\"outside\",\"tickwidth\":2},\"colorscale\":[[0.0,\"rgb(2,4,25)\"],[0.06274509803921569,\"rgb(24,15,41)\"],[0.12549019607843137,\"rgb(47,23,57)\"],[0.18823529411764706,\"rgb(71,28,72)\"],[0.25098039215686274,\"rgb(97,30,82)\"],[0.3137254901960784,\"rgb(123,30,89)\"],[0.3764705882352941,\"rgb(150,27,91)\"],[0.4392156862745098,\"rgb(177,22,88)\"],[0.5019607843137255,\"rgb(203,26,79)\"],[0.5647058823529412,\"rgb(223,47,67)\"],[0.6274509803921569,\"rgb(236,76,61)\"],[0.6901960784313725,\"rgb(242,107,73)\"],[0.7529411764705882,\"rgb(244,135,95)\"],[0.8156862745098039,\"rgb(245,162,122)\"],[0.8784313725490196,\"rgb(246,188,153)\"],[0.9411764705882353,\"rgb(247,212,187)\"],[1.0,\"rgb(250,234,220)\"]],\"type\":\"heatmapgl\"}],\"heatmap\":[{\"colorbar\":{\"outlinewidth\":0,\"tickcolor\":\"rgb(36,36,36)\",\"ticklen\":8,\"ticks\":\"outside\",\"tickwidth\":2},\"colorscale\":[[0.0,\"rgb(2,4,25)\"],[0.06274509803921569,\"rgb(24,15,41)\"],[0.12549019607843137,\"rgb(47,23,57)\"],[0.18823529411764706,\"rgb(71,28,72)\"],[0.25098039215686274,\"rgb(97,30,82)\"],[0.3137254901960784,\"rgb(123,30,89)\"],[0.3764705882352941,\"rgb(150,27,91)\"],[0.4392156862745098,\"rgb(177,22,88)\"],[0.5019607843137255,\"rgb(203,26,79)\"],[0.5647058823529412,\"rgb(223,47,67)\"],[0.6274509803921569,\"rgb(236,76,61)\"],[0.6901960784313725,\"rgb(242,107,73)\"],[0.7529411764705882,\"rgb(244,135,95)\"],[0.8156862745098039,\"rgb(245,162,122)\"],[0.8784313725490196,\"rgb(246,188,153)\"],[0.9411764705882353,\"rgb(247,212,187)\"],[1.0,\"rgb(250,234,220)\"]],\"type\":\"heatmap\"}],\"histogram2dcontour\":[{\"colorbar\":{\"outlinewidth\":0,\"tickcolor\":\"rgb(36,36,36)\",\"ticklen\":8,\"ticks\":\"outside\",\"tickwidth\":2},\"colorscale\":[[0.0,\"rgb(2,4,25)\"],[0.06274509803921569,\"rgb(24,15,41)\"],[0.12549019607843137,\"rgb(47,23,57)\"],[0.18823529411764706,\"rgb(71,28,72)\"],[0.25098039215686274,\"rgb(97,30,82)\"],[0.3137254901960784,\"rgb(123,30,89)\"],[0.3764705882352941,\"rgb(150,27,91)\"],[0.4392156862745098,\"rgb(177,22,88)\"],[0.5019607843137255,\"rgb(203,26,79)\"],[0.5647058823529412,\"rgb(223,47,67)\"],[0.6274509803921569,\"rgb(236,76,61)\"],[0.6901960784313725,\"rgb(242,107,73)\"],[0.7529411764705882,\"rgb(244,135,95)\"],[0.8156862745098039,\"rgb(245,162,122)\"],[0.8784313725490196,\"rgb(246,188,153)\"],[0.9411764705882353,\"rgb(247,212,187)\"],[1.0,\"rgb(250,234,220)\"]],\"type\":\"histogram2dcontour\"}],\"histogram2d\":[{\"colorbar\":{\"outlinewidth\":0,\"tickcolor\":\"rgb(36,36,36)\",\"ticklen\":8,\"ticks\":\"outside\",\"tickwidth\":2},\"colorscale\":[[0.0,\"rgb(2,4,25)\"],[0.06274509803921569,\"rgb(24,15,41)\"],[0.12549019607843137,\"rgb(47,23,57)\"],[0.18823529411764706,\"rgb(71,28,72)\"],[0.25098039215686274,\"rgb(97,30,82)\"],[0.3137254901960784,\"rgb(123,30,89)\"],[0.3764705882352941,\"rgb(150,27,91)\"],[0.4392156862745098,\"rgb(177,22,88)\"],[0.5019607843137255,\"rgb(203,26,79)\"],[0.5647058823529412,\"rgb(223,47,67)\"],[0.6274509803921569,\"rgb(236,76,61)\"],[0.6901960784313725,\"rgb(242,107,73)\"],[0.7529411764705882,\"rgb(244,135,95)\"],[0.8156862745098039,\"rgb(245,162,122)\"],[0.8784313725490196,\"rgb(246,188,153)\"],[0.9411764705882353,\"rgb(247,212,187)\"],[1.0,\"rgb(250,234,220)\"]],\"type\":\"histogram2d\"}],\"histogram\":[{\"marker\":{\"pattern\":{\"fillmode\":\"overlay\",\"size\":10,\"solidity\":0.2}},\"type\":\"histogram\"}],\"mesh3d\":[{\"colorbar\":{\"outlinewidth\":0,\"tickcolor\":\"rgb(36,36,36)\",\"ticklen\":8,\"ticks\":\"outside\",\"tickwidth\":2},\"type\":\"mesh3d\"}],\"parcoords\":[{\"line\":{\"colorbar\":{\"outlinewidth\":0,\"tickcolor\":\"rgb(36,36,36)\",\"ticklen\":8,\"ticks\":\"outside\",\"tickwidth\":2}},\"type\":\"parcoords\"}],\"pie\":[{\"automargin\":true,\"type\":\"pie\"}],\"scatter3d\":[{\"line\":{\"colorbar\":{\"outlinewidth\":0,\"tickcolor\":\"rgb(36,36,36)\",\"ticklen\":8,\"ticks\":\"outside\",\"tickwidth\":2}},\"marker\":{\"colorbar\":{\"outlinewidth\":0,\"tickcolor\":\"rgb(36,36,36)\",\"ticklen\":8,\"ticks\":\"outside\",\"tickwidth\":2}},\"type\":\"scatter3d\"}],\"scattercarpet\":[{\"marker\":{\"colorbar\":{\"outlinewidth\":0,\"tickcolor\":\"rgb(36,36,36)\",\"ticklen\":8,\"ticks\":\"outside\",\"tickwidth\":2}},\"type\":\"scattercarpet\"}],\"scattergeo\":[{\"marker\":{\"colorbar\":{\"outlinewidth\":0,\"tickcolor\":\"rgb(36,36,36)\",\"ticklen\":8,\"ticks\":\"outside\",\"tickwidth\":2}},\"type\":\"scattergeo\"}],\"scattergl\":[{\"marker\":{\"colorbar\":{\"outlinewidth\":0,\"tickcolor\":\"rgb(36,36,36)\",\"ticklen\":8,\"ticks\":\"outside\",\"tickwidth\":2}},\"type\":\"scattergl\"}],\"scattermapbox\":[{\"marker\":{\"colorbar\":{\"outlinewidth\":0,\"tickcolor\":\"rgb(36,36,36)\",\"ticklen\":8,\"ticks\":\"outside\",\"tickwidth\":2}},\"type\":\"scattermapbox\"}],\"scatterpolargl\":[{\"marker\":{\"colorbar\":{\"outlinewidth\":0,\"tickcolor\":\"rgb(36,36,36)\",\"ticklen\":8,\"ticks\":\"outside\",\"tickwidth\":2}},\"type\":\"scatterpolargl\"}],\"scatterpolar\":[{\"marker\":{\"colorbar\":{\"outlinewidth\":0,\"tickcolor\":\"rgb(36,36,36)\",\"ticklen\":8,\"ticks\":\"outside\",\"tickwidth\":2}},\"type\":\"scatterpolar\"}],\"scatter\":[{\"marker\":{\"colorbar\":{\"outlinewidth\":0,\"tickcolor\":\"rgb(36,36,36)\",\"ticklen\":8,\"ticks\":\"outside\",\"tickwidth\":2}},\"type\":\"scatter\"}],\"scatterternary\":[{\"marker\":{\"colorbar\":{\"outlinewidth\":0,\"tickcolor\":\"rgb(36,36,36)\",\"ticklen\":8,\"ticks\":\"outside\",\"tickwidth\":2}},\"type\":\"scatterternary\"}],\"surface\":[{\"colorbar\":{\"outlinewidth\":0,\"tickcolor\":\"rgb(36,36,36)\",\"ticklen\":8,\"ticks\":\"outside\",\"tickwidth\":2},\"colorscale\":[[0.0,\"rgb(2,4,25)\"],[0.06274509803921569,\"rgb(24,15,41)\"],[0.12549019607843137,\"rgb(47,23,57)\"],[0.18823529411764706,\"rgb(71,28,72)\"],[0.25098039215686274,\"rgb(97,30,82)\"],[0.3137254901960784,\"rgb(123,30,89)\"],[0.3764705882352941,\"rgb(150,27,91)\"],[0.4392156862745098,\"rgb(177,22,88)\"],[0.5019607843137255,\"rgb(203,26,79)\"],[0.5647058823529412,\"rgb(223,47,67)\"],[0.6274509803921569,\"rgb(236,76,61)\"],[0.6901960784313725,\"rgb(242,107,73)\"],[0.7529411764705882,\"rgb(244,135,95)\"],[0.8156862745098039,\"rgb(245,162,122)\"],[0.8784313725490196,\"rgb(246,188,153)\"],[0.9411764705882353,\"rgb(247,212,187)\"],[1.0,\"rgb(250,234,220)\"]],\"type\":\"surface\"}],\"table\":[{\"cells\":{\"fill\":{\"color\":\"rgb(231,231,240)\"},\"line\":{\"color\":\"white\"}},\"header\":{\"fill\":{\"color\":\"rgb(183,183,191)\"},\"line\":{\"color\":\"white\"}},\"type\":\"table\"}]},\"layout\":{\"annotationdefaults\":{\"arrowcolor\":\"rgb(67,103,167)\"},\"autotypenumbers\":\"strict\",\"coloraxis\":{\"colorbar\":{\"outlinewidth\":0,\"tickcolor\":\"rgb(36,36,36)\",\"ticklen\":8,\"ticks\":\"outside\",\"tickwidth\":2}},\"colorscale\":{\"sequential\":[[0.0,\"rgb(2,4,25)\"],[0.06274509803921569,\"rgb(24,15,41)\"],[0.12549019607843137,\"rgb(47,23,57)\"],[0.18823529411764706,\"rgb(71,28,72)\"],[0.25098039215686274,\"rgb(97,30,82)\"],[0.3137254901960784,\"rgb(123,30,89)\"],[0.3764705882352941,\"rgb(150,27,91)\"],[0.4392156862745098,\"rgb(177,22,88)\"],[0.5019607843137255,\"rgb(203,26,79)\"],[0.5647058823529412,\"rgb(223,47,67)\"],[0.6274509803921569,\"rgb(236,76,61)\"],[0.6901960784313725,\"rgb(242,107,73)\"],[0.7529411764705882,\"rgb(244,135,95)\"],[0.8156862745098039,\"rgb(245,162,122)\"],[0.8784313725490196,\"rgb(246,188,153)\"],[0.9411764705882353,\"rgb(247,212,187)\"],[1.0,\"rgb(250,234,220)\"]],\"sequentialminus\":[[0.0,\"rgb(2,4,25)\"],[0.06274509803921569,\"rgb(24,15,41)\"],[0.12549019607843137,\"rgb(47,23,57)\"],[0.18823529411764706,\"rgb(71,28,72)\"],[0.25098039215686274,\"rgb(97,30,82)\"],[0.3137254901960784,\"rgb(123,30,89)\"],[0.3764705882352941,\"rgb(150,27,91)\"],[0.4392156862745098,\"rgb(177,22,88)\"],[0.5019607843137255,\"rgb(203,26,79)\"],[0.5647058823529412,\"rgb(223,47,67)\"],[0.6274509803921569,\"rgb(236,76,61)\"],[0.6901960784313725,\"rgb(242,107,73)\"],[0.7529411764705882,\"rgb(244,135,95)\"],[0.8156862745098039,\"rgb(245,162,122)\"],[0.8784313725490196,\"rgb(246,188,153)\"],[0.9411764705882353,\"rgb(247,212,187)\"],[1.0,\"rgb(250,234,220)\"]]},\"colorway\":[\"rgb(76,114,176)\",\"rgb(221,132,82)\",\"rgb(85,168,104)\",\"rgb(196,78,82)\",\"rgb(129,114,179)\",\"rgb(147,120,96)\",\"rgb(218,139,195)\",\"rgb(140,140,140)\",\"rgb(204,185,116)\",\"rgb(100,181,205)\"],\"font\":{\"color\":\"rgb(36,36,36)\"},\"geo\":{\"bgcolor\":\"white\",\"lakecolor\":\"white\",\"landcolor\":\"rgb(234,234,242)\",\"showlakes\":true,\"showland\":true,\"subunitcolor\":\"white\"},\"hoverlabel\":{\"align\":\"left\"},\"hovermode\":\"closest\",\"paper_bgcolor\":\"white\",\"plot_bgcolor\":\"rgb(234,234,242)\",\"polar\":{\"angularaxis\":{\"gridcolor\":\"white\",\"linecolor\":\"white\",\"showgrid\":true,\"ticks\":\"\"},\"bgcolor\":\"rgb(234,234,242)\",\"radialaxis\":{\"gridcolor\":\"white\",\"linecolor\":\"white\",\"showgrid\":true,\"ticks\":\"\"}},\"scene\":{\"xaxis\":{\"backgroundcolor\":\"rgb(234,234,242)\",\"gridcolor\":\"white\",\"gridwidth\":2,\"linecolor\":\"white\",\"showbackground\":true,\"showgrid\":true,\"ticks\":\"\",\"zerolinecolor\":\"white\"},\"yaxis\":{\"backgroundcolor\":\"rgb(234,234,242)\",\"gridcolor\":\"white\",\"gridwidth\":2,\"linecolor\":\"white\",\"showbackground\":true,\"showgrid\":true,\"ticks\":\"\",\"zerolinecolor\":\"white\"},\"zaxis\":{\"backgroundcolor\":\"rgb(234,234,242)\",\"gridcolor\":\"white\",\"gridwidth\":2,\"linecolor\":\"white\",\"showbackground\":true,\"showgrid\":true,\"ticks\":\"\",\"zerolinecolor\":\"white\"}},\"shapedefaults\":{\"fillcolor\":\"rgb(67,103,167)\",\"line\":{\"width\":0},\"opacity\":0.5},\"ternary\":{\"aaxis\":{\"gridcolor\":\"white\",\"linecolor\":\"white\",\"showgrid\":true,\"ticks\":\"\"},\"baxis\":{\"gridcolor\":\"white\",\"linecolor\":\"white\",\"showgrid\":true,\"ticks\":\"\"},\"bgcolor\":\"rgb(234,234,242)\",\"caxis\":{\"gridcolor\":\"white\",\"linecolor\":\"white\",\"showgrid\":true,\"ticks\":\"\"}},\"xaxis\":{\"automargin\":true,\"gridcolor\":\"white\",\"linecolor\":\"white\",\"showgrid\":true,\"ticks\":\"\",\"title\":{\"standoff\":15},\"zerolinecolor\":\"white\"},\"yaxis\":{\"automargin\":true,\"gridcolor\":\"white\",\"linecolor\":\"white\",\"showgrid\":true,\"ticks\":\"\",\"title\":{\"standoff\":15},\"zerolinecolor\":\"white\"}}},\"xaxis\":{\"anchor\":\"y\",\"domain\":[0.0,1.0],\"title\":{\"text\":\"I can balance the costs of basic needs\"}},\"yaxis\":{\"anchor\":\"x\",\"domain\":[0.0,1.0],\"title\":{\"text\":\"count\"}},\"legend\":{\"title\":{\"text\":\"I follow my budget\"},\"tracegroupgap\":0},\"title\":{\"text\":\"Distribution of 'I can balance the costs of basic needs'\"},\"barmode\":\"group\"},                        {\"responsive\": true}                    ).then(function(){\n                            \nvar gd = document.getElementById('e333b8b7-ba4a-4060-ae56-8a51f02640e8');\nvar x = new MutationObserver(function (mutations, observer) {{\n        var display = window.getComputedStyle(gd).display;\n        if (!display || display === 'none') {{\n            console.log([gd, 'removed!']);\n            Plotly.purge(gd);\n            observer.disconnect();\n        }}\n}});\n\n// Listen for the removal of the full notebook cells\nvar notebookContainer = gd.closest('#notebook-container');\nif (notebookContainer) {{\n    x.observe(notebookContainer, {childList: true});\n}}\n\n// Listen for the clearing of the current output cell\nvar outputEl = gd.closest('.output');\nif (outputEl) {{\n    x.observe(outputEl, {childList: true});\n}}\n\n                        })                };                });            </script>        </div>"
         },
         "metadata": {},
         "output_type": "display_data"
        }
       ]
      }
     },
     "36e37163bd174f34a92b1e04d7efeeb3": {
      "model_module": "@jupyter-widgets/controls",
      "model_module_version": "1.5.0",
      "model_name": "VBoxModel",
      "state": {
       "_dom_classes": [
        "widget-interact"
       ],
       "children": [
        "IPY_MODEL_3bb1d4364b8d4327bb17d3d9516c1d6c",
        "IPY_MODEL_431f60b5431f460193369a4534863c3e",
        "IPY_MODEL_731f187b60dd4dcc8ffcc6b643c7c983",
        "IPY_MODEL_24d8f2da70684170ada4d310bcf785d7"
       ],
       "layout": "IPY_MODEL_5f7e92df73444a52a37742be77a49d1e"
      }
     },
     "3716549d3ce548a5891898ed05ef6782": {
      "model_module": "@jupyter-widgets/controls",
      "model_module_version": "1.5.0",
      "model_name": "VBoxModel",
      "state": {
       "_dom_classes": [
        "widget-interact"
       ],
       "children": [
        "IPY_MODEL_63da1ecdcc73403191575592d847d27e",
        "IPY_MODEL_6a1cce2db08a469c866e7ce40d8a8717",
        "IPY_MODEL_f01d4708a0a144c9a173d0c5a0b5457b"
       ],
       "layout": "IPY_MODEL_7b2bf0eb38934ce2acce4c0777a73dc9"
      }
     },
     "3bb1d4364b8d4327bb17d3d9516c1d6c": {
      "model_module": "@jupyter-widgets/controls",
      "model_module_version": "1.5.0",
      "model_name": "DropdownModel",
      "state": {
       "_options_labels": [
        "I get how housing affects aid",
        "I follow my budget",
        "I will make a budget",
        "I know where to get food",
        "I can balance the costs of basic needs",
        "I can chose the best housing for me",
        "Feedback"
       ],
       "description": "X-Axis",
       "index": 4,
       "layout": "IPY_MODEL_be8323834d544650b2fef45a80bebb97",
       "style": "IPY_MODEL_ab66ce60db4f4183b5e867be11537190"
      }
     },
     "3e2994c5bcf84de196de10f014e19cd8": {
      "model_module": "@jupyter-widgets/controls",
      "model_module_version": "1.5.0",
      "model_name": "DropdownModel",
      "state": {
       "_options_labels": [
        "None",
        "I will make a spending plan",
        "I've started saving",
        "What's in a spending plan?",
        "I have reduced flexible expenses",
        "I can manage my finances"
       ],
       "description": "Color By",
       "index": null,
       "layout": "IPY_MODEL_47398d46b7cc4bfeaf24f234b79e8087",
       "style": "IPY_MODEL_bf16fe41eccb49de923d51a63bded93e"
      }
     },
     "431f60b5431f460193369a4534863c3e": {
      "model_module": "@jupyter-widgets/controls",
      "model_module_version": "1.5.0",
      "model_name": "DropdownModel",
      "state": {
       "_options_labels": [
        "None",
        "I get how housing affects aid",
        "I follow my budget",
        "I will make a budget",
        "I know where to get food",
        "I can balance the costs of basic needs",
        "I can chose the best housing for me"
       ],
       "description": "Color By",
       "index": 2,
       "layout": "IPY_MODEL_6c9ec3bd2f244a3da4008c1e21f5dfc8",
       "style": "IPY_MODEL_b6815028e1be4e909380f02ddd6e5429"
      }
     },
     "47398d46b7cc4bfeaf24f234b79e8087": {
      "model_module": "@jupyter-widgets/base",
      "model_module_version": "1.2.0",
      "model_name": "LayoutModel",
      "state": {}
     },
     "55d836e954cc4b0dbcc964b1cb8c39f7": {
      "model_module": "@jupyter-widgets/base",
      "model_module_version": "1.2.0",
      "model_name": "LayoutModel",
      "state": {}
     },
     "5f7e92df73444a52a37742be77a49d1e": {
      "model_module": "@jupyter-widgets/base",
      "model_module_version": "1.2.0",
      "model_name": "LayoutModel",
      "state": {}
     },
     "60b5b18c09e044c8a085c8aef5be2f8b": {
      "model_module": "@jupyter-widgets/base",
      "model_module_version": "1.2.0",
      "model_name": "LayoutModel",
      "state": {}
     },
     "63da1ecdcc73403191575592d847d27e": {
      "model_module": "@jupyter-widgets/controls",
      "model_module_version": "1.5.0",
      "model_name": "ToggleButtonModel",
      "state": {
       "button_style": "warning",
       "description": "Show All Plots",
       "icon": "eye",
       "layout": "IPY_MODEL_55d836e954cc4b0dbcc964b1cb8c39f7",
       "style": "IPY_MODEL_f2b543162b8943cdb08dc8f69fac4a72"
      }
     },
     "6a1cce2db08a469c866e7ce40d8a8717": {
      "model_module": "@jupyter-widgets/controls",
      "model_module_version": "1.5.0",
      "model_name": "DropdownModel",
      "state": {
       "_options_labels": [
        "None",
        "Eating on a Budget",
        "Moving Out of the Dorms",
        "Spending Plan"
       ],
       "description": "Workshop",
       "index": 3,
       "layout": "IPY_MODEL_046a592cf6144f7ebb2eae435dfbb63d",
       "style": "IPY_MODEL_1dd7bdb3acdf487392633ea5e866acd7"
      }
     },
     "6c9ec3bd2f244a3da4008c1e21f5dfc8": {
      "model_module": "@jupyter-widgets/base",
      "model_module_version": "1.2.0",
      "model_name": "LayoutModel",
      "state": {}
     },
     "6f7b135efad5442f962c1a81ce3b267b": {
      "model_module": "@jupyter-widgets/base",
      "model_module_version": "1.2.0",
      "model_name": "LayoutModel",
      "state": {}
     },
     "731f187b60dd4dcc8ffcc6b643c7c983": {
      "model_module": "@jupyter-widgets/controls",
      "model_module_version": "1.5.0",
      "model_name": "DropdownModel",
      "state": {
       "_options_labels": [
        "Stacked",
        "Side-By-Side"
       ],
       "description": "mode",
       "index": 1,
       "layout": "IPY_MODEL_6f7b135efad5442f962c1a81ce3b267b",
       "style": "IPY_MODEL_af59ad2d7f424f319daffe2b17236bf0"
      }
     },
     "77f4eba9cc5f43d8bffb771309da4e1d": {
      "model_module": "@jupyter-widgets/base",
      "model_module_version": "1.2.0",
      "model_name": "LayoutModel",
      "state": {}
     },
     "7b2bf0eb38934ce2acce4c0777a73dc9": {
      "model_module": "@jupyter-widgets/base",
      "model_module_version": "1.2.0",
      "model_name": "LayoutModel",
      "state": {}
     },
     "94b7c3042dd0408a99b63d51f68fc3b7": {
      "model_module": "@jupyter-widgets/controls",
      "model_module_version": "1.5.0",
      "model_name": "VBoxModel",
      "state": {
       "_dom_classes": [
        "widget-interact"
       ],
       "children": [
        "IPY_MODEL_11f79fd4826940faaaae88fc7bcb42bf",
        "IPY_MODEL_3e2994c5bcf84de196de10f014e19cd8",
        "IPY_MODEL_b6a0c88c23ee409fbb15f9369fc8f2d4",
        "IPY_MODEL_a300af6facaf454bb3a8c6e4979f095a"
       ],
       "layout": "IPY_MODEL_ec01e33f8cc6403da5e6ebc9dd882d19"
      }
     },
     "9c082fc3d5624d1790871fe73ee7f81d": {
      "model_module": "@jupyter-widgets/base",
      "model_module_version": "1.2.0",
      "model_name": "LayoutModel",
      "state": {}
     },
     "a300af6facaf454bb3a8c6e4979f095a": {
      "model_module": "@jupyter-widgets/output",
      "model_module_version": "1.0.0",
      "model_name": "OutputModel",
      "state": {
       "layout": "IPY_MODEL_60b5b18c09e044c8a085c8aef5be2f8b",
       "outputs": [
        {
         "data": {
          "text/markdown": "<pre style='font-size: 18px'>*great info, maybe no Presi slides</pre style='font-size: 18px'>",
          "text/plain": "<IPython.core.display.Markdown object>"
         },
         "metadata": {},
         "output_type": "display_data"
        },
        {
         "data": {
          "text/markdown": "\n",
          "text/plain": "<IPython.core.display.Markdown object>"
         },
         "metadata": {},
         "output_type": "display_data"
        },
        {
         "data": {
          "text/markdown": "<pre style='font-size: 18px'>*I wish there were breakout rooms in the meeting where I could receive 1 on 1 assistance with regards to managing finances and budgeting.</pre style='font-size: 18px'>",
          "text/plain": "<IPython.core.display.Markdown object>"
         },
         "metadata": {},
         "output_type": "display_data"
        },
        {
         "data": {
          "text/markdown": "\n",
          "text/plain": "<IPython.core.display.Markdown object>"
         },
         "metadata": {},
         "output_type": "display_data"
        },
        {
         "data": {
          "text/markdown": "<pre style='font-size: 18px'>*short activity</pre style='font-size: 18px'>",
          "text/plain": "<IPython.core.display.Markdown object>"
         },
         "metadata": {},
         "output_type": "display_data"
        },
        {
         "data": {
          "text/markdown": "\n",
          "text/plain": "<IPython.core.display.Markdown object>"
         },
         "metadata": {},
         "output_type": "display_data"
        },
        {
         "data": {
          "text/markdown": "<pre style='font-size: 18px'>*It was great!</pre style='font-size: 18px'>",
          "text/plain": "<IPython.core.display.Markdown object>"
         },
         "metadata": {},
         "output_type": "display_data"
        },
        {
         "data": {
          "text/markdown": "\n",
          "text/plain": "<IPython.core.display.Markdown object>"
         },
         "metadata": {},
         "output_type": "display_data"
        },
        {
         "data": {
          "text/markdown": "<pre style='font-size: 18px'>*Some form of inclusivity for a broad range of income problems, but it was a cohesive presentation with insightful tips and advice!</pre style='font-size: 18px'>",
          "text/plain": "<IPython.core.display.Markdown object>"
         },
         "metadata": {},
         "output_type": "display_data"
        },
        {
         "data": {
          "text/markdown": "\n",
          "text/plain": "<IPython.core.display.Markdown object>"
         },
         "metadata": {},
         "output_type": "display_data"
        },
        {
         "data": {
          "text/markdown": "<pre style='font-size: 18px'>*Maybe taking more time to go over how to actually fill out the budget</pre style='font-size: 18px'>",
          "text/plain": "<IPython.core.display.Markdown object>"
         },
         "metadata": {},
         "output_type": "display_data"
        },
        {
         "data": {
          "text/markdown": "\n",
          "text/plain": "<IPython.core.display.Markdown object>"
         },
         "metadata": {},
         "output_type": "display_data"
        },
        {
         "data": {
          "text/markdown": "<pre style='font-size: 18px'>*great job</pre style='font-size: 18px'>",
          "text/plain": "<IPython.core.display.Markdown object>"
         },
         "metadata": {},
         "output_type": "display_data"
        },
        {
         "data": {
          "text/markdown": "\n",
          "text/plain": "<IPython.core.display.Markdown object>"
         },
         "metadata": {},
         "output_type": "display_data"
        },
        {
         "data": {
          "text/markdown": "<pre style='font-size: 18px'>*i think it would be helpful to take time to actuallly make a spending plan</pre style='font-size: 18px'>",
          "text/plain": "<IPython.core.display.Markdown object>"
         },
         "metadata": {},
         "output_type": "display_data"
        },
        {
         "data": {
          "text/markdown": "\n",
          "text/plain": "<IPython.core.display.Markdown object>"
         },
         "metadata": {},
         "output_type": "display_data"
        },
        {
         "data": {
          "text/markdown": "<pre style='font-size: 18px'>*it's great</pre style='font-size: 18px'>",
          "text/plain": "<IPython.core.display.Markdown object>"
         },
         "metadata": {},
         "output_type": "display_data"
        },
        {
         "data": {
          "text/markdown": "\n",
          "text/plain": "<IPython.core.display.Markdown object>"
         },
         "metadata": {},
         "output_type": "display_data"
        },
        {
         "data": {
          "text/markdown": "<pre style='font-size: 18px'>*more minutes on cute animals and more gifs</pre style='font-size: 18px'>",
          "text/plain": "<IPython.core.display.Markdown object>"
         },
         "metadata": {},
         "output_type": "display_data"
        },
        {
         "data": {
          "text/markdown": "\n",
          "text/plain": "<IPython.core.display.Markdown object>"
         },
         "metadata": {},
         "output_type": "display_data"
        },
        {
         "data": {
          "text/markdown": "<pre style='font-size: 18px'>*more detailed slides</pre style='font-size: 18px'>",
          "text/plain": "<IPython.core.display.Markdown object>"
         },
         "metadata": {},
         "output_type": "display_data"
        },
        {
         "data": {
          "text/markdown": "\n",
          "text/plain": "<IPython.core.display.Markdown object>"
         },
         "metadata": {},
         "output_type": "display_data"
        },
        {
         "data": {
          "text/markdown": "<pre style='font-size: 18px'>*Some more examples</pre style='font-size: 18px'>",
          "text/plain": "<IPython.core.display.Markdown object>"
         },
         "metadata": {},
         "output_type": "display_data"
        },
        {
         "data": {
          "text/markdown": "\n",
          "text/plain": "<IPython.core.display.Markdown object>"
         },
         "metadata": {},
         "output_type": "display_data"
        },
        {
         "data": {
          "text/markdown": "<pre style='font-size: 18px'>*more activities</pre style='font-size: 18px'>",
          "text/plain": "<IPython.core.display.Markdown object>"
         },
         "metadata": {},
         "output_type": "display_data"
        },
        {
         "data": {
          "text/markdown": "\n",
          "text/plain": "<IPython.core.display.Markdown object>"
         },
         "metadata": {},
         "output_type": "display_data"
        },
        {
         "data": {
          "text/markdown": "<pre style='font-size: 18px'>*more examples</pre style='font-size: 18px'>",
          "text/plain": "<IPython.core.display.Markdown object>"
         },
         "metadata": {},
         "output_type": "display_data"
        },
        {
         "data": {
          "text/markdown": "\n",
          "text/plain": "<IPython.core.display.Markdown object>"
         },
         "metadata": {},
         "output_type": "display_data"
        },
        {
         "data": {
          "text/markdown": "<pre style='font-size: 18px'>*Get the audience more engaged, taking questions</pre style='font-size: 18px'>",
          "text/plain": "<IPython.core.display.Markdown object>"
         },
         "metadata": {},
         "output_type": "display_data"
        },
        {
         "data": {
          "text/markdown": "\n",
          "text/plain": "<IPython.core.display.Markdown object>"
         },
         "metadata": {},
         "output_type": "display_data"
        }
       ]
      }
     },
     "a31ed49f1922440785a5fe1539e74131": {
      "model_module": "@jupyter-widgets/controls",
      "model_module_version": "1.5.0",
      "model_name": "DescriptionStyleModel",
      "state": {
       "description_width": ""
      }
     },
     "ab66ce60db4f4183b5e867be11537190": {
      "model_module": "@jupyter-widgets/controls",
      "model_module_version": "1.5.0",
      "model_name": "DescriptionStyleModel",
      "state": {
       "description_width": ""
      }
     },
     "af59ad2d7f424f319daffe2b17236bf0": {
      "model_module": "@jupyter-widgets/controls",
      "model_module_version": "1.5.0",
      "model_name": "DescriptionStyleModel",
      "state": {
       "description_width": ""
      }
     },
     "b6815028e1be4e909380f02ddd6e5429": {
      "model_module": "@jupyter-widgets/controls",
      "model_module_version": "1.5.0",
      "model_name": "DescriptionStyleModel",
      "state": {
       "description_width": ""
      }
     },
     "b6a0c88c23ee409fbb15f9369fc8f2d4": {
      "model_module": "@jupyter-widgets/controls",
      "model_module_version": "1.5.0",
      "model_name": "DropdownModel",
      "state": {
       "_options_labels": [
        "Stacked",
        "Side-By-Side"
       ],
       "description": "mode",
       "index": 0,
       "layout": "IPY_MODEL_bfce92615c9f48059ea64b719ae83bbc",
       "style": "IPY_MODEL_ba08a2d6fe2e4371bdc489257e3f6d56"
      }
     },
     "ba08a2d6fe2e4371bdc489257e3f6d56": {
      "model_module": "@jupyter-widgets/controls",
      "model_module_version": "1.5.0",
      "model_name": "DescriptionStyleModel",
      "state": {
       "description_width": ""
      }
     },
     "be8323834d544650b2fef45a80bebb97": {
      "model_module": "@jupyter-widgets/base",
      "model_module_version": "1.2.0",
      "model_name": "LayoutModel",
      "state": {}
     },
     "bf16fe41eccb49de923d51a63bded93e": {
      "model_module": "@jupyter-widgets/controls",
      "model_module_version": "1.5.0",
      "model_name": "DescriptionStyleModel",
      "state": {
       "description_width": ""
      }
     },
     "bfce92615c9f48059ea64b719ae83bbc": {
      "model_module": "@jupyter-widgets/base",
      "model_module_version": "1.2.0",
      "model_name": "LayoutModel",
      "state": {}
     },
     "ec01e33f8cc6403da5e6ebc9dd882d19": {
      "model_module": "@jupyter-widgets/base",
      "model_module_version": "1.2.0",
      "model_name": "LayoutModel",
      "state": {}
     },
     "f01d4708a0a144c9a173d0c5a0b5457b": {
      "model_module": "@jupyter-widgets/output",
      "model_module_version": "1.0.0",
      "model_name": "OutputModel",
      "state": {
       "layout": "IPY_MODEL_0a093fec1a804b3aa237f47a751c7550",
       "outputs": [
        {
         "data": {
          "application/vnd.jupyter.widget-view+json": {
           "model_id": "94b7c3042dd0408a99b63d51f68fc3b7",
           "version_major": 2,
           "version_minor": 0
          },
          "text/plain": "interactive(children=(Dropdown(description='X-Axis', options=('I will make a spending plan', \"I've started sav…"
         },
         "metadata": {},
         "output_type": "display_data"
        }
       ]
      }
     },
     "f2b543162b8943cdb08dc8f69fac4a72": {
      "model_module": "@jupyter-widgets/controls",
      "model_module_version": "1.5.0",
      "model_name": "DescriptionStyleModel",
      "state": {
       "description_width": ""
      }
     }
    },
    "version_major": 2,
    "version_minor": 0
   }
  }
 },
 "nbformat": 4,
 "nbformat_minor": 5
}
